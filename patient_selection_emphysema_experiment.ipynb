{
 "cells": [
  {
   "cell_type": "code",
   "execution_count": 1,
   "id": "4c4c8fc4",
   "metadata": {},
   "outputs": [],
   "source": [
    "#Import Dependencies\n",
    "import pandas as pd\n",
    "import numpy as np\n",
    "import os\n",
    "import matplotlib.pyplot as plt\n",
    "import seaborn as sns\n",
    "import scipy.stats as st\n",
    "import time\n",
    "import traceback\n",
    "import copy\n",
    "import pickle\n",
    "import collections\n",
    "\n",
    "import warnings\n",
    "warnings.filterwarnings(\"ignore\")"
   ]
  },
  {
   "cell_type": "code",
   "execution_count": 2,
   "id": "7ae35d8c",
   "metadata": {},
   "outputs": [],
   "source": [
    "path=\"emph_csv/\" #Path with emphysema files from REDCap, one for each degree"
   ]
  },
  {
   "cell_type": "code",
   "execution_count": 3,
   "id": "8784a129",
   "metadata": {},
   "outputs": [],
   "source": [
    "#Read excel files with data\n",
    "mod=pd.read_excel(os.getcwd()+'/emphysema_exp_files'+\"\\\\moderate_manual.xlsx\")\n",
    "conf=pd.read_excel(os.getcwd()+'/emphysema_exp_files'+\"\\\\moderate_manual.xlsx\")\n",
    "adv=pd.read_excel(os.getcwd()+'/emphysema_exp_files'+\"\\\\advanced_manual.xlsx\")\n",
    "noemph=pd.read_excel(os.getcwd()+'/emphysema_exp_files'+\"\\\\noemphysema_manual.xlsx\")"
   ]
  },
  {
   "cell_type": "code",
   "execution_count": 4,
   "id": "b8806e19",
   "metadata": {},
   "outputs": [],
   "source": [
    "#Needed for FN extraction\n",
    "path_noemph=os.getcwd()+'/no_emphysema_reviewed'\n",
    "path_emph=os.getcwd()+'/emphysema_reviewed'"
   ]
  },
  {
   "cell_type": "code",
   "execution_count": 5,
   "id": "6a153231",
   "metadata": {},
   "outputs": [],
   "source": [
    "start=time.time()"
   ]
  },
  {
   "cell_type": "code",
   "execution_count": 6,
   "id": "e4527591",
   "metadata": {},
   "outputs": [],
   "source": [
    "emphysema_data=pd.DataFrame() #Create empty dataframe"
   ]
  },
  {
   "cell_type": "code",
   "execution_count": 2,
   "id": "3643802b",
   "metadata": {},
   "outputs": [],
   "source": [
    "#Combine all dataframes with the different degrees of emphysema\n",
    "\n",
    "total_pat=0 #count number of participants\n",
    "\n",
    "for file in os.listdir(path): #loop over dataframes\n",
    "    print(file.split('-')[1].split(\"_\")[0]) #print emphysema degree\n",
    "    dataframe=file.split('-')[1].split(\"_\")[0] #Use degree of emphysema as a name for each corresponding dataframe\n",
    "    exec(dataframe+'=pd.read_csv(os.getcwd()+\"/\"+path+file)') #read each dataframe\n",
    "    exec(dataframe+\"['Emphysema']=str(dataframe)\") #Add column with emphysema degree\n",
    "    emphysema_data=emphysema_data.append(eval(dataframe)) #Combine each emphysema dataframe to another dataframe\n",
    "    total_pat=total_pat+len(eval(dataframe)) #Add number of participants of that degree to the total number of participants\n",
    "    print(len(np.unique(eval(dataframe+\"['participant_id']\")))) #print num of unique participants of that degree of emphysema\n",
    "\n",
    "    assert(total_pat==len(emphysema_data)) #Confirm that everything worked"
   ]
  },
  {
   "cell_type": "code",
   "execution_count": 1,
   "id": "2488628b",
   "metadata": {},
   "outputs": [],
   "source": [
    "print(\"Number of unique participants is {}\".format(len(np.unique(emphysema_data['participant_id']))))\n",
    "print(\"We have in total {} participants\".format(len(emphysema_data)))"
   ]
  },
  {
   "cell_type": "code",
   "execution_count": 9,
   "id": "7faf1662",
   "metadata": {},
   "outputs": [],
   "source": [
    "#Emphysema types ordered by severity - Taken from np.unique(emphysema_data['Emphysema'])\n",
    "severity=[\"AdvancedCentrEmphyNo\",\"ConfluentCentrEmphyN\",\"ModerateCentrEmphyNo\",\"MidCentrEmphyNodules\",\n",
    "          \"TraceCentrEmphyNodul\",\"NoCentrEmphyNodules\"]"
   ]
  },
  {
   "cell_type": "code",
   "execution_count": 10,
   "id": "21faa683",
   "metadata": {},
   "outputs": [],
   "source": [
    "severity_nums=[5,4,3,2,1,0] #create integers from the most severe to the least one"
   ]
  },
  {
   "cell_type": "code",
   "execution_count": 11,
   "id": "acd23bda",
   "metadata": {},
   "outputs": [
    {
     "data": {
      "text/plain": [
       "{'AdvancedCentrEmphyNo': 5,\n",
       " 'ConfluentCentrEmphyN': 4,\n",
       " 'ModerateCentrEmphyNo': 3,\n",
       " 'MidCentrEmphyNodules': 2,\n",
       " 'TraceCentrEmphyNodul': 1,\n",
       " 'NoCentrEmphyNodules': 0}"
      ]
     },
     "execution_count": 11,
     "metadata": {},
     "output_type": "execute_result"
    }
   ],
   "source": [
    "severity_dict={} #create a dict with severity name and corresponding integer\n",
    "for index,val in enumerate(severity):\n",
    "    severity_dict[val]=severity_nums[index]\n",
    "severity_dict"
   ]
  },
  {
   "cell_type": "code",
   "execution_count": 12,
   "id": "4bcd7893",
   "metadata": {},
   "outputs": [],
   "source": [
    "emphysema_data['Severity']=emphysema_data['Emphysema'] #copy emphysema column to severity column"
   ]
  },
  {
   "cell_type": "code",
   "execution_count": 13,
   "id": "b447ab00",
   "metadata": {},
   "outputs": [],
   "source": [
    "emphysema_data=emphysema_data.replace({\"Severity\": severity_dict}) #replace severity with the numbered version of it"
   ]
  },
  {
   "cell_type": "code",
   "execution_count": 3,
   "id": "225b2bcb",
   "metadata": {},
   "outputs": [],
   "source": [
    "emphysema_data=emphysema_data.sort_values(by=['Severity'], ascending=False) #sort by severity of emphysema\n",
    "emphysema_data=emphysema_data.reset_index(drop=True) #Reset indices\n",
    "emphysema_data"
   ]
  },
  {
   "cell_type": "code",
   "execution_count": 15,
   "id": "9e797d9b",
   "metadata": {},
   "outputs": [],
   "source": [
    "#Delete less severe degree row of participants who can be found multiple times\n",
    "#These should have the similar information - differences only in emphysema related tabs\n",
    "indices_delete=[]\n",
    "\n",
    "for participant in emphysema_data['participant_id']: #Loop over participant_IDs\n",
    "    if len(np.where(emphysema_data[\"participant_id\"]==participant)[0])>1: #If we have more than one occurence of that ID\n",
    "        #loop over indices and row number of these occurences\n",
    "        for ind,val_ind_del in enumerate(np.where(emphysema_data[\"participant_id\"]==participant)[0]): \n",
    "            if ind>0: #If we don't have the most severe degree for that participants (always first element since sorted)\n",
    "                indices_delete.append(val_ind_del) #Add index of df in list to be deleted"
   ]
  },
  {
   "cell_type": "code",
   "execution_count": 4,
   "id": "862345c6",
   "metadata": {},
   "outputs": [],
   "source": [
    "emphysema_data=emphysema_data.drop(list(np.unique(indices_delete))) #Drop above duplicate participant_ID rows\n",
    "emphysema_data=emphysema_data.reset_index(drop=True) #Reset indices\n",
    "emphysema_data"
   ]
  },
  {
   "cell_type": "code",
   "execution_count": 5,
   "id": "713e567d",
   "metadata": {},
   "outputs": [],
   "source": [
    "#Final number of unique participants and the degree in which they belong\n",
    "#These correspond to the actual number of each degree for our analysis - Kept the highest degree found on any lobe\n",
    "for degree in severity:\n",
    "    print(degree)\n",
    "    print(len(np.where(emphysema_data[\"Emphysema\"]==degree)[0]))"
   ]
  },
  {
   "cell_type": "code",
   "execution_count": 18,
   "id": "5e881b52",
   "metadata": {},
   "outputs": [],
   "source": [
    "assert len(np.unique(emphysema_data['participant_id']))==len(emphysema_data['participant_id'])"
   ]
  },
  {
   "attachments": {},
   "cell_type": "markdown",
   "id": "5a163fdb",
   "metadata": {},
   "source": [
    "## Inconsistencies\n",
    "There are some participants for which the number of volumes is less than the number of nodules found. According to a radiologist this is because the volumes of ground-class nodules were not included in the downloads. "
   ]
  },
  {
   "cell_type": "code",
   "execution_count": 19,
   "id": "9a7f6b38",
   "metadata": {},
   "outputs": [],
   "source": [
    "for i in range(1,11): #Create empty columns to be filled with volumes of nodules below\n",
    "    emphysema_data['volume_all_n'+str(i)]=float(0)"
   ]
  },
  {
   "cell_type": "code",
   "execution_count": 6,
   "id": "5dec80c0",
   "metadata": {},
   "outputs": [],
   "source": [
    "emphysema_data.iloc[:,20:]"
   ]
  },
  {
   "cell_type": "code",
   "execution_count": 21,
   "id": "b043fd64",
   "metadata": {},
   "outputs": [
    {
     "name": "stdout",
     "output_type": "stream",
     "text": [
      "Number of individuals with advanced emphysema is 5\n",
      "Number of individuals with confluent emphysema is 7\n",
      "Number of individuals with moderate emphysema is 27\n",
      "Number of individuals with noemphysema is 82\n"
     ]
    }
   ],
   "source": [
    "#Patient IDs of individuals with advanced, moderate, and noemphysema\n",
    "adv_pats=[....] \n",
    "\n",
    "mod_pats=[....]\n",
    "\n",
    "conf_pats=[....] \n",
    "\n",
    "noemph_pats=[....]\n",
    "        \n",
    "print(\"Number of individuals with advanced emphysema is {}\".format(len(adv_pats)))\n",
    "print(\"Number of individuals with confluent emphysema is {}\".format(len(conf_pats)))\n",
    "print(\"Number of individuals with moderate emphysema is {}\".format(len(mod_pats)))\n",
    "print(\"Number of individuals with noemphysema is {}\".format(len(noemph_pats)))"
   ]
  },
  {
   "cell_type": "code",
   "execution_count": 7,
   "id": "e4ebf1e3",
   "metadata": {},
   "outputs": [],
   "source": [
    "#Find cases in which we have both 'solid' and 'subsolid' volumes for same nodule keep only solid if vol_solid>30mm3, else add them \n",
    "#Otherwise keep the only available component\n",
    "\n",
    "vol_both_comps=[] #To be filled with participants who have both solid and subsolid component\n",
    "\n",
    "for j in range(len(emphysema_data)):\n",
    "    \n",
    "    for nod_num in range(1,11):\n",
    "\n",
    "        # if emphysema_data.loc[j,'participant_id'] in (adv_pats+mod_pats+conf_pats+noemph_pats): #If participant in our experiment - Should define these above in the notebook\n",
    "        \n",
    "            solid=emphysema_data.loc[j,'volume_solid_n'+str(nod_num)]\n",
    "            subsolid=emphysema_data.loc[j,'volume_subsolid_n'+str(nod_num)]\n",
    "            \n",
    "            if np.isnan(solid)==True and np.isnan(subsolid)==False:\n",
    "                emphysema_data.loc[j,'volume_all_n'+str(nod_num)]=subsolid\n",
    "\n",
    "                # print(\"Only subsolid component for nod id\",nod_num,'of participant',emphysema_data.loc[j,'participant_id'])\n",
    "                if emphysema_data.loc[j,'participant_id'] in (adv_pats+mod_pats+conf_pats): #If participant has emphysema\n",
    "                    print(\"Only subsolid component for nod id\",nod_num,'of participant',emphysema_data.loc[j,'participant_id'])\n",
    "                    print(\"Emphysema participant\")\n",
    "                    print('\\n')\n",
    "                elif emphysema_data.loc[j,'participant_id'] in (noemph_pats):\n",
    "                    print(\"Only subsolid component for nod id\",nod_num,'of participant',emphysema_data.loc[j,'participant_id'])\n",
    "                    print(\"No emphysema participant\")\n",
    "                    print('\\n')\n",
    "                \n",
    "            elif np.isnan(solid)==False and np.isnan(subsolid)==True:\n",
    "                emphysema_data.loc[j,'volume_all_n'+str(nod_num)]=solid\n",
    "                \n",
    "            elif np.isnan(solid)==False and np.isnan(subsolid)==False:\n",
    "\n",
    "                vol_both_comps.append(emphysema_data.loc[j,'participant_id'])\n",
    "        \n",
    "                if solid>30:\n",
    "                    emphysema_data.loc[j,'volume_all_n'+str(nod_num)]=solid\n",
    "                    \n",
    "                    if emphysema_data.loc[j,'participant_id'] in noemph_pats:\n",
    "                        print(\"emphsolid only kept components for nod_id\",nod_num,'of participant',emphysema_data.loc[j,'participant_id'])\n",
    "                        print('\\n')\n",
    "                    elif emphysema_data.loc[j,'participant_id'] in (adv_pats+mod_pats+conf_pats):\n",
    "                        print(\"noemphsolid only kept components for nod_id\",nod_num,'of participant',emphysema_data.loc[j,'participant_id'])\n",
    "                        print('\\n')\n",
    "                else:\n",
    "                    emphysema_data.loc[j,'volume_all_n'+str(nod_num)]=solid+subsolid\n",
    "\n",
    "\n",
    "                    if emphysema_data.loc[j,'participant_id'] in (adv_pats+mod_pats+conf_pats+noemph_pats): \n",
    "                        print(\"Combined solid and subsolid components for nod_id\",nod_num,'of participant',emphysema_data.loc[j,'participant_id'])\n",
    "                        print('\\n')\n",
    "                        \n",
    "                    # if emphysema_data.loc[j,'participant_id'] in (adv_pats+mod_pats+conf_pats): #If participant has emphysema\n",
    "                    #     print(\"Emphysema participant\")\n",
    "                    # else:\n",
    "                    #     print(\"No emphysema participant\")\n",
    "                \n",
    "            else:\n",
    "                emphysema_data.loc[j,'volume_all_n'+str(nod_num)]=np.nan"
   ]
  },
  {
   "cell_type": "code",
   "execution_count": 23,
   "id": "2f04471a",
   "metadata": {},
   "outputs": [],
   "source": [
    "##Check volumes and see if we can manually match each nodule with a subsolid component from the emphysema to one from the non-emphysema group\n",
    "\n",
    "# check_cols=['participant_id']+[col for col in emphysema_data.columns if 'volume' in col and 'n7' in col]\n",
    "# emphysema_data.loc[emphysema_data['participant_id'].isin([845334,101191,255903])][check_cols]"
   ]
  },
  {
   "cell_type": "code",
   "execution_count": 8,
   "id": "3e1f5245",
   "metadata": {},
   "outputs": [],
   "source": [
    "#Show these list of participants with volumes for solid and subsolid components of the same nodule\n",
    "#101191 with moderate emphysema and 845334 with non-emphysema are used in my analysis below\n",
    "list(np.unique(vol_both_comps))"
   ]
  },
  {
   "cell_type": "code",
   "execution_count": 9,
   "id": "cf27bc15",
   "metadata": {},
   "outputs": [],
   "source": [
    "#Show volumes for cases with solid and subsolid components\n",
    "check_cols=[col for col in emphysema_data.columns if 'volume' in col]\n",
    "emphysema_data.loc[emphysema_data['participant_id'].isin(vol_both_comps)][check_cols]"
   ]
  },
  {
   "cell_type": "code",
   "execution_count": 10,
   "id": "6e7fa64f",
   "metadata": {},
   "outputs": [],
   "source": [
    "# emphysema_data = emphysema_data[~emphysema_data.participant_id.isin(vol_both_comps[1:])] #Remove these participants\n",
    "emphysema_data=emphysema_data.reset_index(drop=True)\n",
    "emphysema_data"
   ]
  },
  {
   "attachments": {},
   "cell_type": "markdown",
   "id": "40c53be1",
   "metadata": {},
   "source": [
    "### Remove participants that was later found to have annotation issues"
   ]
  },
  {
   "cell_type": "code",
   "execution_count": 11,
   "id": "a33ae6c9",
   "metadata": {},
   "outputs": [],
   "source": [
    "#Remove participants with Annotations Issues\n",
    "\n",
    "pat_remove=[....]\n",
    "\n",
    "for pat in pat_remove:\n",
    "    emphysema_data=emphysema_data[emphysema_data['participant_id']!=pat]\n",
    "    \n",
    "emphysema_data=emphysema_data.reset_index(drop=True)\n",
    "emphysema_data"
   ]
  },
  {
   "cell_type": "code",
   "execution_count": 12,
   "id": "40b1cef5",
   "metadata": {},
   "outputs": [],
   "source": [
    "for name in severity_dict.keys(): #loop over names of emphysema degrees and print num of participants of each degree now\n",
    "    print(name)\n",
    "    \n",
    "    #Transform each dataframe to have each participant 1 time\n",
    "    exec(name+\"=emphysema_data[emphysema_data['Emphysema']==name]\") \n",
    "    \n",
    "    print(len(emphysema_data[emphysema_data['Emphysema']==name]))\n",
    "    \n",
    "#In the first version there were adv 5, conf 8, mod 25, mid 93, tr 459, no-emph 679. Just for comparison"
   ]
  },
  {
   "attachments": {},
   "cell_type": "markdown",
   "id": "c30f0340",
   "metadata": {},
   "source": [
    "#### Get information from REDCap for participants in the emphysema experiment - Use it below to get TP information"
   ]
  },
  {
   "cell_type": "code",
   "execution_count": 13,
   "id": "bb160e0e",
   "metadata": {},
   "outputs": [],
   "source": [
    "emphysema_data"
   ]
  },
  {
   "cell_type": "code",
   "execution_count": 30,
   "id": "99348b88",
   "metadata": {},
   "outputs": [],
   "source": [
    "#Combine all participants in one list to extract information from them from REDCap\n",
    "all_pats=noemph_pats+mod_pats+conf_pats+adv_pats"
   ]
  },
  {
   "cell_type": "code",
   "execution_count": 14,
   "id": "751774b4",
   "metadata": {},
   "outputs": [],
   "source": [
    "TP_export=emphysema_data[emphysema_data['participant_id'].isin(all_pats)]\n",
    "TP_export"
   ]
  },
  {
   "cell_type": "markdown",
   "id": "dc90c6f3",
   "metadata": {},
   "source": [
    "Manual Modifications of missing fields/errors"
   ]
  },
  {
   "cell_type": "code",
   "execution_count": 32,
   "id": "5bff33f0",
   "metadata": {},
   "outputs": [],
   "source": [
    "# TP_export[TP_export['participant_id']==199391].index[0] #This is the index of the row that we want to change its value\n",
    "TP_export.at[TP_export[TP_export['participant_id']==199391].index[0], 'nodule_id_n1'] = 2 #Change value\n",
    "TP_export.at[TP_export[TP_export['participant_id']==845334].index[0], 'nodule_id_n7'] = 6 #Change value"
   ]
  },
  {
   "cell_type": "code",
   "execution_count": 33,
   "id": "fc9c81cc",
   "metadata": {},
   "outputs": [],
   "source": [
    "#Similarly change calcification values from 'nan' to 'no'\n",
    "TP_export.at[TP_export[TP_export['participant_id']==435703].index[0], 'calcification_n1']=1\n",
    "TP_export.at[TP_export[TP_export['participant_id']==845334].index[0], 'calcification_n1']=1"
   ]
  },
  {
   "cell_type": "code",
   "execution_count": 34,
   "id": "ce150edf",
   "metadata": {},
   "outputs": [],
   "source": [
    "# #Changes that were done in latest version - Manual errors corrected\n",
    "TP_export.at[TP_export[TP_export['participant_id']==585377].index[0], 'pfn_n4']=1\n",
    "TP_export.at[TP_export[TP_export['participant_id']==585377].index[0], 'pfn_n5']=1\n",
    "TP_export.at[TP_export[TP_export['participant_id']==320656].index[0], 'attachment_n3___4']=0\n",
    "TP_export.at[TP_export[TP_export['participant_id']==320656].index[0], 'attachment_n3___5']=1\n",
    "TP_export.at[TP_export[TP_export['participant_id']==591162].index[0], 'attachment_n5___4']=0\n",
    "TP_export.at[TP_export[TP_export['participant_id']==591162].index[0], 'attachment_n5___5']=1\n",
    "\n",
    "TP_export.at[TP_export[TP_export['participant_id']==382098].index[0], 'attachment_n1___6']=0\n",
    "TP_export.at[TP_export[TP_export['participant_id']==382098].index[0], 'attachment_n1___7']=1\n",
    "TP_export.at[TP_export[TP_export['participant_id']==383275].index[0], 'attachment_n1___6']=0\n",
    "TP_export.at[TP_export[TP_export['participant_id']==383275].index[0], 'attachment_n1___7']=1\n",
    "TP_export.at[TP_export[TP_export['participant_id']==406668].index[0], 'attachment_n1___6']=0\n",
    "TP_export.at[TP_export[TP_export['participant_id']==406668].index[0], 'attachment_n1___7']=1\n",
    "TP_export.at[TP_export[TP_export['participant_id']==440453].index[0], 'attachment_n1___6']=0\n",
    "TP_export.at[TP_export[TP_export['participant_id']==440453].index[0], 'attachment_n1___7']=1\n",
    "TP_export.at[TP_export[TP_export['participant_id']==870199].index[0], 'attachment_n2___6']=0\n",
    "TP_export.at[TP_export[TP_export['participant_id']==870199].index[0], 'attachment_n2___7']=1\n",
    "TP_export.at[TP_export[TP_export['participant_id']==585377].index[0], 'attachment_n5___5']=1\n",
    "TP_export.at[TP_export[TP_export['participant_id']==585377].index[0], 'attachment_n5___6']=0\n",
    "TP_export.at[TP_export[TP_export['participant_id']==490144].index[0], 'attachment_n1___6']=0\n",
    "TP_export.at[TP_export[TP_export['participant_id']==490144].index[0], 'attachment_n1___7']=1\n",
    "TP_export.at[TP_export[TP_export['participant_id']==662368].index[0], 'attachment_n1___6']=0\n",
    "TP_export.at[TP_export[TP_export['participant_id']==662368].index[0], 'attachment_n1___7']=1\n",
    "TP_export.at[TP_export[TP_export['participant_id']==951248].index[0], 'attachment_n3___6']=0\n",
    "TP_export.at[TP_export[TP_export['participant_id']==951248].index[0], 'attachment_n3___7']=1\n",
    "TP_export.at[TP_export[TP_export['participant_id']==951248].index[0], 'attachment_n4___6']=0\n",
    "TP_export.at[TP_export[TP_export['participant_id']==951248].index[0], 'attachment_n4___7']=1\n",
    "TP_export.at[TP_export[TP_export['participant_id']==810826].index[0], 'attachment_n2___4']=0\n",
    "TP_export.at[TP_export[TP_export['participant_id']==810826].index[0], 'attachment_n2___5']=1\n",
    "TP_export.at[TP_export[TP_export['participant_id']==810826].index[0], 'attachment_n2___6']=0\n",
    "TP_export.at[TP_export[TP_export['participant_id']==810826].index[0], 'attachment_n2___7']=1\n",
    "TP_export.at[TP_export[TP_export['participant_id']==944714].index[0], 'attachment_n2___4']=0\n",
    "TP_export.at[TP_export[TP_export['participant_id']==944714].index[0], 'attachment_n2___5']=1\n",
    "TP_export.at[TP_export[TP_export['participant_id']==944714].index[0], 'attachment_n2___6']=0\n",
    "TP_export.at[TP_export[TP_export['participant_id']==944714].index[0], 'attachment_n2___7']=1\n",
    "TP_export.at[TP_export[TP_export['participant_id']==944714].index[0], 'attachment_n3___6']=0\n",
    "TP_export.at[TP_export[TP_export['participant_id']==944714].index[0], 'attachment_n3___7']=1\n",
    "TP_export.at[TP_export[TP_export['participant_id']==754238].index[0], 'attachment_n1___6']=0\n",
    "TP_export.at[TP_export[TP_export['participant_id']==754238].index[0], 'attachment_n1___7']=1\n",
    "\n",
    "#All calcified nodules below\n",
    "TP_export.at[TP_export[TP_export['participant_id']==585377].index[0], 'pfn_n1']=1\n",
    "TP_export.at[TP_export[TP_export['participant_id']==585377].index[0], 'pfn_n2']=1\n",
    "TP_export.at[TP_export[TP_export['participant_id']==585377].index[0], 'pfn_n8']=1\n",
    "\n",
    "TP_export.at[TP_export[TP_export['participant_id']==320656].index[0], 'pfn_n2']=1\n",
    "TP_export.at[TP_export[TP_export['participant_id']==320656].index[0], 'pfn_n5']=1"
   ]
  },
  {
   "cell_type": "code",
   "execution_count": 35,
   "id": "1f47626f",
   "metadata": {},
   "outputs": [],
   "source": [
    "# TP_export.to_excel(\"all_cases_red.xlsx\")"
   ]
  },
  {
   "cell_type": "code",
   "execution_count": 36,
   "id": "b9ef1c1d",
   "metadata": {},
   "outputs": [],
   "source": [
    "#Changes from issues emerged from FN\n",
    "TP_export.at[TP_export[TP_export['participant_id']==425409].index[0], 'attachment_n2___6']=0\n",
    "TP_export.at[TP_export[TP_export['participant_id']==425409].index[0], 'attachment_n2___7']=1\n",
    "TP_export.at[TP_export[TP_export['participant_id']==518709].index[0], 'attachment_n1___6']=0\n",
    "TP_export.at[TP_export[TP_export['participant_id']==518709].index[0], 'attachment_n1___7']=1\n",
    "TP_export.at[TP_export[TP_export['participant_id']==485925].index[0], 'attachment_n1___6']=0\n",
    "TP_export.at[TP_export[TP_export['participant_id']==485925].index[0], 'attachment_n1___7']=1\n",
    "TP_export.at[TP_export[TP_export['participant_id']==499832].index[0], 'attachment_n1___6']=0\n",
    "TP_export.at[TP_export[TP_export['participant_id']==499832].index[0], 'attachment_n1___7']=1\n",
    "TP_export.at[TP_export[TP_export['participant_id']==136154].index[0], 'attachment_n1___6']=0\n",
    "TP_export.at[TP_export[TP_export['participant_id']==136154].index[0], 'attachment_n1___7']=1\n",
    "TP_export.at[TP_export[TP_export['participant_id']==353491].index[0], 'attachment_n1___6']=0\n",
    "TP_export.at[TP_export[TP_export['participant_id']==353491].index[0], 'attachment_n1___7']=1\n",
    "TP_export.at[TP_export[TP_export['participant_id']==512145].index[0], 'attachment_n2___6']=0\n",
    "TP_export.at[TP_export[TP_export['participant_id']==512145].index[0], 'attachment_n2___7']=1\n",
    "TP_export.at[TP_export[TP_export['participant_id']==810826].index[0], 'attachment_n1___6']=0\n",
    "TP_export.at[TP_export[TP_export['participant_id']==810826].index[0], 'attachment_n1___7']=1\n",
    "TP_export.at[TP_export[TP_export['participant_id']==985215].index[0], 'attachment_n3___6']=0\n",
    "TP_export.at[TP_export[TP_export['participant_id']==985215].index[0], 'attachment_n3___7']=1\n",
    "TP_export.at[TP_export[TP_export['participant_id']==985215].index[0], 'attachment_n4___6']=0\n",
    "TP_export.at[TP_export[TP_export['participant_id']==985215].index[0], 'attachment_n4___7']=1\n",
    "TP_export.at[TP_export[TP_export['participant_id']==754238].index[0], 'attachment_n2___6']=0\n",
    "TP_export.at[TP_export[TP_export['participant_id']==754238].index[0], 'attachment_n2___7']=1\n",
    "TP_export.at[TP_export[TP_export['participant_id']==754238].index[0], 'attachment_n3___4']=0\n",
    "TP_export.at[TP_export[TP_export['participant_id']==754238].index[0], 'attachment_n3___5']=1\n",
    "\n",
    "#These were supposed to fix some issues with FN but didn't work\n",
    "TP_export.at[TP_export[TP_export['participant_id']==278319].index[0], 'attachment_n1___6']=0\n",
    "TP_export.at[TP_export[TP_export['participant_id']==278319].index[0], 'attachment_n1___7']=1\n",
    "TP_export.at[TP_export[TP_export['participant_id']==278319].index[0], 'attachment_n1___3']=1\n",
    "TP_export.at[TP_export[TP_export['participant_id']==278319].index[0], 'attachment_n1___1']=0\n",
    "TP_export.at[TP_export[TP_export['participant_id']==278319].index[0], 'attachment_n1___2']=0\n",
    "TP_export.at[TP_export[TP_export['participant_id']==278319].index[0], 'attachment_n1___4']=0\n",
    "TP_export.at[TP_export[TP_export['participant_id']==278319].index[0], 'attachment_n1___5']=0"
   ]
  },
  {
   "attachments": {},
   "cell_type": "markdown",
   "id": "d2be53e4",
   "metadata": {},
   "source": [
    "### Get indices of TP for each participant - Use manually checked annotations"
   ]
  },
  {
   "cell_type": "code",
   "execution_count": 37,
   "id": "1fae1b88",
   "metadata": {},
   "outputs": [],
   "source": [
    "mod=mod[:13] #These are the indices in df of those with moderate emphysema and nodules\n",
    "mod=mod.reset_index(drop=True) #Reset indices\n",
    "\n",
    "conf=conf[33:38] #Get patients with confluent emphysema from df (it contains both mod+conf patients)\n",
    "conf=conf.reset_index(drop=True) #Reset indices\n",
    "\n",
    "adv=adv[:5] #Select participants with advanced emphysema\n",
    "adv=adv.reset_index(drop=True) #Reset indices\n",
    "\n",
    "noemph=noemph[:67] #Select participants with nodules and without emphysema\n",
    "noemph=noemph.reset_index(drop=True) #Reset indices"
   ]
  },
  {
   "cell_type": "code",
   "execution_count": 38,
   "id": "9dcdd0f8",
   "metadata": {},
   "outputs": [],
   "source": [
    "#Select rows where we have at least one TP or FN of 300+ volume subgroup - We should manually check below to not consider them as FN\n",
    "mod_nottp=mod[mod['300+ tp'].notnull() | mod['300+ fn'].notnull()]\n",
    "conf_nottp=conf[conf['300+ tp'].notnull() | conf['300+ fn'].notnull()]\n",
    "adv_nottp=adv[adv['300+ tp'].notnull() | adv['300+ fn'].notnull()]\n",
    "noemph_nottp=noemph[(noemph['300+ tp'].notnull() | noemph['300+ fn'].notnull() )& noemph['participant_id'].notnull()]"
   ]
  },
  {
   "attachments": {},
   "cell_type": "markdown",
   "id": "528fec3b",
   "metadata": {},
   "source": [
    "The following have to be checked manually and add/remove respective ids from TP/FN lists - They have 300+ nodules in REDCap"
   ]
  },
  {
   "cell_type": "code",
   "execution_count": 15,
   "id": "8e461e5a",
   "metadata": {},
   "outputs": [],
   "source": [
    "print(\"Moderate\",mod_nottp['participant_id'].values)\n",
    "print(\"Confluent\",conf_nottp['participant_id'].values)\n",
    "print(\"Advanced\",adv_nottp['participant_id'].values)\n",
    "print(\"NoEmphysema\",[int(str(x)[:6]) for x in noemph_nottp['participant_id'].values])"
   ]
  },
  {
   "cell_type": "code",
   "execution_count": 40,
   "id": "94623698",
   "metadata": {},
   "outputs": [],
   "source": [
    "#Set all 300+ columns to nan since we won't consider those\n",
    "mod['300+ tp'] = np.nan\n",
    "mod['300+ fp']=np.nan\n",
    "mod['300+ fn']=np.nan\n",
    "\n",
    "adv['300+ tp']=np.nan\n",
    "adv['300+ fp']=np.nan\n",
    "adv['300+ fn']=np.nan\n",
    "\n",
    "conf['300+ tp']=np.nan\n",
    "conf['300+ fp']=np.nan\n",
    "conf['300+ fn']=np.nan\n",
    "\n",
    "noemph['300+ tp']=np.nan\n",
    "noemph['300+ fp']=np.nan\n",
    "noemph['300+ fn']=np.nan"
   ]
  },
  {
   "cell_type": "code",
   "execution_count": 41,
   "id": "5abc5ced",
   "metadata": {},
   "outputs": [],
   "source": [
    "#This is to prevent considering vols <30 or >300mm3\n",
    "vol_cols=[col for col in noemph.columns if 'V' in col] #Get name of columns containing volumes of AI nodules\n",
    "\n",
    "emph_deg=['noemph_fp','adv_fp','mod_fp','conf_fp']\n",
    "\n",
    "for deg in emph_deg: #Loop over emphysema degrees\n",
    "    for col in vol_cols: #Loop over columns with volumes\n",
    "        #If the volume is less than 30mm3 we should ignore them - set it along with the corresponding AI nod to '-'\n",
    "        for ind,val in eval(deg[:-3]+\"[(\"+deg[:-3]+\"['\"+col+\"']<=30) ]['\"+col+\"'].items()\"):\n",
    "             #| (\"+deg[:-3]+\"['\"+col+\"']>300) - Not added since we might have a TP with vol>300 from AI which is <300 in REDCap\n",
    "            exec(deg[:-3]+\"['\"+col+\"'].iloc[ind]=np.nan\") #was '-' instead of nan\n",
    "            exec(deg[:-3]+\"['AI_nod\"+str(col[1:])+\"'].iloc[ind]=np.nan\")"
   ]
  },
  {
   "attachments": {},
   "cell_type": "markdown",
   "id": "9063352e",
   "metadata": {},
   "source": [
    "<!-- #SOME ai NODS WITH VOL>300 HAVE SMALLER THAN 300 IN REDCAP!! manually correct!! -->"
   ]
  },
  {
   "cell_type": "code",
   "execution_count": 42,
   "id": "a78a9a42",
   "metadata": {},
   "outputs": [],
   "source": [
    "#Select rows where we have at least one TP in any of the 0-100 or 100-300 volume subgroup\n",
    "mod_tp=mod[mod['100-300tp'].notnull() | mod['0-100tp'].notnull()]\n",
    "conf_tp=conf[conf['100-300tp'].notnull() | conf['0-100tp'].notnull()]\n",
    "adv_tp=adv[adv['100-300tp'].notnull() | adv['0-100tp'].notnull()]\n",
    "noemph_tp=noemph[(noemph['100-300tp'].notnull() | noemph['0-100tp'].notnull() ) & noemph['participant_id'].notnull()]"
   ]
  },
  {
   "cell_type": "code",
   "execution_count": 16,
   "id": "1ec6a3cd",
   "metadata": {},
   "outputs": [],
   "source": [
    "noemph_tp.iloc[:,-15:]"
   ]
  },
  {
   "cell_type": "code",
   "execution_count": 44,
   "id": "d26e890e",
   "metadata": {},
   "outputs": [],
   "source": [
    "#Initialize empty dicts in the form {'pat_id1':[],'pat_id2':[],...}\n",
    "noemph_dict=dict.fromkeys([str(numeric_string) for numeric_string in noemph_tp['participant_id'].values], [])\n",
    "noemph_dict=[[key[:6],[]] for (key, value) in noemph_dict.items()] #Initialize list in the form [participant_id,[]]\n",
    "noemph_dict = {item[0]: item[1] for item in noemph_dict} #convert to dictionary in the form {pat_1:[nod_1,...],...}\n",
    "noemph_tp['participant_id']=list(noemph_dict.keys())\n",
    "\n",
    "mod_dict=dict.fromkeys([str(numeric_string) for numeric_string in mod_tp['participant_id'].values], [])\n",
    "mod_dict=[[key[:6],[]] for (key, value) in mod_dict.items()]\n",
    "mod_dict = {item[0]: item[1] for item in mod_dict}\n",
    "mod_tp['participant_id']=list(mod_dict.keys())\n",
    "\n",
    "conf_dict=dict.fromkeys([str(numeric_string) for numeric_string in conf_tp['participant_id'].values], [])\n",
    "conf_dict=[[key[:6],[]] for (key, value) in conf_dict.items()]\n",
    "conf_dict = {item[0]: item[1] for item in conf_dict}\n",
    "conf_tp['participant_id']=list(conf_dict.keys())\n",
    "\n",
    "adv_dict=dict.fromkeys([str(numeric_string) for numeric_string in adv_tp['participant_id'].values], [])\n",
    "adv_dict=[[key[:6],[]] for (key, value) in adv_dict.items()]\n",
    "adv_dict = {item[0]: item[1] for item in adv_dict}\n",
    "adv_tp['participant_id']=list(adv_dict.keys())"
   ]
  },
  {
   "cell_type": "code",
   "execution_count": 17,
   "id": "9622feec",
   "metadata": {},
   "outputs": [],
   "source": [
    "noemph_dict"
   ]
  },
  {
   "cell_type": "code",
   "execution_count": 46,
   "id": "5899174f",
   "metadata": {},
   "outputs": [],
   "source": [
    "AI_cols=[col for col in noemph_tp.columns if 'AI_nod' in col] #Get name of columns containing AI nodules"
   ]
  },
  {
   "cell_type": "code",
   "execution_count": 47,
   "id": "75bf9ad9",
   "metadata": {},
   "outputs": [
    {
     "name": "stdout",
     "output_type": "stream",
     "text": [
      "noemph_tp\n",
      "adv_tp\n",
      "mod_tp\n",
      "conf_tp\n"
     ]
    }
   ],
   "source": [
    "emph_deg=['noemph_tp','adv_tp','mod_tp','conf_tp'] #Initialize list with possible emphysema degrees. \n",
    "#Could also be without the suffix '_tp' and then just use 'deg' instead of 'deg[:-3]' below - For now stays as is\n",
    "\n",
    "for deg in emph_deg: #Loop over emphysema degrees\n",
    "    print(deg)\n",
    "    for ind_col,col in enumerate(AI_cols): #loop over AI columns with nodules and their ids\n",
    "        \n",
    "        #Following line to change nan with '-' since otherwise cannot check for string with 'L' below\n",
    "        exec(deg[:-3]+\"_tp['\"+col+\"']=\"+deg[:-3]+\"_tp['\"+col+\"'].fillna('-')\")\n",
    "        \n",
    "        #Create a variable storing only those rows of df that a specific AI_nod col contains 'L' (denotes a TP)\n",
    "        exec('temp='+deg[:-3]+'_tp['+deg[:-3]+\"_tp['\"+str(col)+\"'].str.contains('L')]\")\n",
    "        \n",
    "        if not temp.empty: #If we have TP for that participant\n",
    "\n",
    "            for ind,pat in enumerate(temp['participant_id']): #Loop over all participants with TP in a specific AI col\n",
    "\n",
    "                try: #To ensure that there are no errors\n",
    "                    nod_id=temp.iloc[ind,ind_col+1][temp.iloc[ind,ind_col+1].find('L')+1:] #Get id\n",
    "                    nod_id=nod_id.split(' ')[0] #To get actual id\n",
    "                    exec(deg[:-3]+'_dict'+\"['\"+str(pat)+\"'].append('\"+nod_id+\"')\") #Add that to the dictionary\n",
    "                except:\n",
    "                    print(traceback.print_exc()) #print errors"
   ]
  },
  {
   "cell_type": "code",
   "execution_count": 18,
   "id": "98211be2",
   "metadata": {},
   "outputs": [],
   "source": [
    "# noemph_dict"
   ]
  },
  {
   "cell_type": "code",
   "execution_count": 49,
   "id": "39f58535",
   "metadata": {},
   "outputs": [],
   "source": [
    "for deg in emph_deg: #Loop over emphysema degrees\n",
    "    for key,val in eval(deg[:-3]+'_dict.items()'): #Loop over all participants and keys\n",
    "        #Replace keys like '04' with just the integer 4\n",
    "        exec(deg[:-3]+\"_dict['\"+key+\"']=[int(x) for x in \"+deg[:-3]+\"_dict['\"+key+\"']]\")  "
   ]
  },
  {
   "cell_type": "code",
   "execution_count": 19,
   "id": "d2502fc1",
   "metadata": {},
   "outputs": [],
   "source": [
    "# noemph_dict"
   ]
  },
  {
   "cell_type": "code",
   "execution_count": 20,
   "id": "fcdc2839",
   "metadata": {},
   "outputs": [],
   "source": [
    "# conf_dict"
   ]
  },
  {
   "cell_type": "code",
   "execution_count": 52,
   "id": "e88897d6",
   "metadata": {},
   "outputs": [],
   "source": [
    "#Manually keep correct TP ids from above lists\n",
    "\n",
    "#Keep only these as TP - The rest are of size >300mm3\n",
    "conf_dict['845594']=[2] #1 was discarded\n",
    "noemph_dict['591162']=[10,4] # 1,2,3,6,19,22,16 were discarded\n",
    "noemph_dict['845334']=[6,10,2,8] #3,1,7,4,5 were discarded"
   ]
  },
  {
   "cell_type": "code",
   "execution_count": 21,
   "id": "df459db2",
   "metadata": {},
   "outputs": [],
   "source": [
    "# mod_dict"
   ]
  },
  {
   "cell_type": "code",
   "execution_count": 22,
   "id": "d767b3c2",
   "metadata": {},
   "outputs": [],
   "source": [
    "# noemph_dict"
   ]
  },
  {
   "cell_type": "code",
   "execution_count": 55,
   "id": "2aec0f14",
   "metadata": {},
   "outputs": [
    {
     "name": "stdout",
     "output_type": "stream",
     "text": [
      "Number of TPs findings in noemphysema: 69 Those come from 44 participants\n",
      "Number of TPs findings in moderate emphysema: 24 Those come from 9 participants\n",
      "Number of TPs findings in confluent emphysema: 2 Those come from 2 participants\n",
      "Number of TPs findings in advanced emphysema: 14 Those come from 4 participants\n"
     ]
    }
   ],
   "source": [
    "print(\"Number of TPs findings in noemphysema:\",len([y for x in noemph_dict.values() for y in x]),\"Those come from\",len(noemph_dict),\"participants\")\n",
    "print(\"Number of TPs findings in moderate emphysema:\",len([y for x in mod_dict.values() for y in x]),\"Those come from\",len(mod_dict),\"participants\")\n",
    "print(\"Number of TPs findings in confluent emphysema:\",len([y for x in conf_dict.values() for y in x]),\"Those come from\",len(conf_dict),\"participants\")\n",
    "print(\"Number of TPs findings in advanced emphysema:\",len([y for x in adv_dict.values() for y in x]),\"Those come from\",len(adv_dict),\"participants\")"
   ]
  },
  {
   "attachments": {},
   "cell_type": "markdown",
   "id": "d0d0cded",
   "metadata": {},
   "source": [
    "#### Extract TP information for the ids of TP nodules for each participant found above"
   ]
  },
  {
   "cell_type": "code",
   "execution_count": 56,
   "id": "f1fbb6cc",
   "metadata": {},
   "outputs": [],
   "source": [
    "cols_with_nod_ids=[col for col in TP_export.columns if 'nodule_id_n' in col] #Columns with nodule ids"
   ]
  },
  {
   "cell_type": "code",
   "execution_count": 57,
   "id": "f64ac20a",
   "metadata": {},
   "outputs": [],
   "source": [
    "#Keep only the participants of interest - Those in the emphysema/non-emphysema lists\n",
    "noemph_TP_fin=TP_export[TP_export['participant_id'].isin(noemph_pats)]\n",
    "mod_TP_fin=TP_export[TP_export['participant_id'].isin(mod_pats)]\n",
    "conf_TP_fin=TP_export[TP_export['participant_id'].isin(conf_pats)]\n",
    "adv_TP_fin=TP_export[TP_export['participant_id'].isin(adv_pats)]"
   ]
  },
  {
   "cell_type": "code",
   "execution_count": 58,
   "id": "701c6c17",
   "metadata": {},
   "outputs": [],
   "source": [
    "#Convert participant ids to integers\n",
    "noemph_dict= {int(k):v for k,v in noemph_dict.items()} \n",
    "mod_dict= {int(k):v for k,v in mod_dict.items()}\n",
    "conf_dict= {int(k):v for k,v in conf_dict.items()}\n",
    "adv_dict= {int(k):v for k,v in adv_dict.items()}"
   ]
  },
  {
   "cell_type": "code",
   "execution_count": 59,
   "id": "686d5d22",
   "metadata": {},
   "outputs": [],
   "source": [
    "#Keep in each df only those rows (participants) that have at least one TP nodule\n",
    "noemph_TP_fin=noemph_TP_fin.loc[noemph_TP_fin['participant_id'].isin(list(noemph_dict.keys()))]\n",
    "mod_TP_fin=mod_TP_fin.loc[mod_TP_fin['participant_id'].isin(list(mod_dict.keys()))]\n",
    "conf_TP_fin=conf_TP_fin.loc[conf_TP_fin['participant_id'].isin(list(conf_dict.keys()))]\n",
    "adv_TP_fin=adv_TP_fin.loc[adv_TP_fin['participant_id'].isin(list(adv_dict.keys()))]"
   ]
  },
  {
   "cell_type": "code",
   "execution_count": 60,
   "id": "542c9a8e",
   "metadata": {},
   "outputs": [],
   "source": [
    "#Until now we have the ids in the Nodule ID attribute on REDCap. We have to convert them to numbers from 1-10 that\n",
    "#correspond to the REDCap attributes - initialize dict with {pat:empty} list pairs\n",
    "\n",
    "true_ids_noemph_dict={key:[] for key,val in noemph_dict.items()} \n",
    "true_ids_mod_dict={key:[] for key,val in mod_dict.items()}\n",
    "true_ids_conf_dict={key:[] for key,val in conf_dict.items()}\n",
    "true_ids_adv_dict={key:[] for key,val in adv_dict.items()}"
   ]
  },
  {
   "cell_type": "code",
   "execution_count": 61,
   "id": "ba5aa305",
   "metadata": {},
   "outputs": [],
   "source": [
    "def convert_to_true_ids(dictionary,df,cols_with_nod_ids,new_dictionary):\n",
    "    \n",
    "    #Get ids of where TP nodules stored in REDCap - from 1 to 10 - used to get information from respective columns below\n",
    "    for pat,nods in dictionary.items(): #Loop over dictionary key-values\n",
    "\n",
    "        true_nod_id=df.loc[df['participant_id'] == pat][cols_with_nod_ids].values[0] #Get value of nodule \n",
    "       \n",
    "        for nod in nods: #Loop over nodules\n",
    "            new_dictionary[pat].append(np.where(nod==true_nod_id)[0][0]+1) #Add true nod_id in dictionary\n",
    "            \n",
    "    return new_dictionary"
   ]
  },
  {
   "cell_type": "code",
   "execution_count": 62,
   "id": "11b77d44",
   "metadata": {},
   "outputs": [],
   "source": [
    "#Apply function to get nodule id in REDCap from nodule value stored in it\n",
    "true_ids_noemph_dict=convert_to_true_ids(noemph_dict,noemph_TP_fin,cols_with_nod_ids,true_ids_noemph_dict)\n",
    "true_ids_mod_dict=convert_to_true_ids(mod_dict,mod_TP_fin,cols_with_nod_ids,true_ids_mod_dict)\n",
    "true_ids_conf_dict=convert_to_true_ids(conf_dict,conf_TP_fin,cols_with_nod_ids,true_ids_conf_dict)\n",
    "true_ids_adv_dict=convert_to_true_ids(adv_dict,adv_TP_fin,cols_with_nod_ids,true_ids_adv_dict)"
   ]
  },
  {
   "cell_type": "code",
   "execution_count": 23,
   "id": "005a84a3",
   "metadata": {},
   "outputs": [],
   "source": [
    "# true_ids_noemph_dict #Only values from 1-10"
   ]
  },
  {
   "cell_type": "code",
   "execution_count": 64,
   "id": "4b95c3d4",
   "metadata": {},
   "outputs": [
    {
     "name": "stdout",
     "output_type": "stream",
     "text": [
      "Number of TPs findings in noemphysema: 69 Those come from 44 participants\n",
      "Number of TPs findings in moderate emphysema: 24 Those come from 9 participants\n",
      "Number of TPs findings in confluent emphysema: 2 Those come from 2 participants\n",
      "Number of TPs findings in advanced emphysema: 14 Those come from 4 participants\n"
     ]
    }
   ],
   "source": [
    "print(\"Number of TPs findings in noemphysema:\",len([y for x in true_ids_noemph_dict.values() for y in x]),\"Those come from\",len(true_ids_noemph_dict),\"participants\")\n",
    "print(\"Number of TPs findings in moderate emphysema:\",len([y for x in true_ids_mod_dict.values() for y in x]),\"Those come from\",len(true_ids_mod_dict),\"participants\")\n",
    "print(\"Number of TPs findings in confluent emphysema:\",len([y for x in true_ids_conf_dict.values() for y in x]),\"Those come from\",len(true_ids_conf_dict),\"participants\")\n",
    "print(\"Number of TPs findings in advanced emphysema:\",len([y for x in true_ids_adv_dict.values() for y in x]),\"Those come from\",len(true_ids_adv_dict),\"participants\")"
   ]
  },
  {
   "attachments": {},
   "cell_type": "markdown",
   "id": "3ba4c590",
   "metadata": {},
   "source": [
    "## Add information from REDCap to lists"
   ]
  },
  {
   "attachments": {},
   "cell_type": "markdown",
   "id": "7c132232",
   "metadata": {},
   "source": [
    "#### Explanation of REDCap values\n",
    "- calcification - we keep 2-6 (calcified):\n",
    "\n",
    "1. No=>1 \n",
    "2. Fully calcified, centrally, popcorn, rum,other=>1-6\n",
    "\n",
    "- pfn (numbers represent value in REDCap) - we keep 3 (atypical PFN/triangular lymph node) - caution: 2,3 exist also for typical/fissural (if for attachment_n7 value is 1). In general, both typical and atypical PFNs (intrapulmonary lymph nodes) are always non-calcified (calcification=1), have sharp borders and oval, triangular, or polygonal (rectangle or dumdbell rarely) shape -any of shape_==2 or 3 or 4- (also round but could be a misclassification of cancer). Also, most of them have a vascular, or fissure or pleural attachment (any of attachments 2,3,7 is 1). \n",
    "Typical PFNs always have a fissure attached (attach_7=1) while atypical may or may not be fissure attached:\n",
    "\n",
    "1. No=>1\n",
    "2. Typical PFN=>2\n",
    "3. Atypical PFN/possible =>3\n",
    "4. Don't know =>4\n",
    "\n",
    "- attachment (if eg. attach_n1_2 is 0 means not pleural based) - we keep either n_2=1 (pleural) or n_4, n_5=1 (peribronchial/bronciovascular lymph node, if also central 'location', smooth 'edge', triangular or polygonal 'shape', and solid 'nodule_type'):\n",
    "\n",
    "1. 0mm, reaching to pleura\n",
    "2. pleural based \n",
    "3. juxtapleural\n",
    "4. peribronchial\n",
    "5. vascular attached\n",
    "6. juxtavascular\n",
    "7. fissural attached\n",
    "\n",
    "- nodule type - we keep 3 (subsolid/ground glass)\n",
    "1. solid\n",
    "2. partial solid\n",
    "3. pure ground glass"
   ]
  },
  {
   "cell_type": "code",
   "execution_count": 65,
   "id": "4501d3e3",
   "metadata": {},
   "outputs": [],
   "source": [
    "#Create cols to extract nodule information from REDCap\n",
    "#For 'attachment_n' since only possible values are 0 or 1, we could also work with lists instead of dictionaries.\n",
    "#More convenient dictionaries since we already have the pipeline for the rest\n",
    "\n",
    "def extract_information(df):\n",
    "    calcified_nodules=[col for col in df.columns if 'calcification_n' in col]\n",
    "    pleural_nodules=[col for col in df.columns if 'attachment_n' in col and '___2' in col]\n",
    "    subclass_ground_glass_nodules=[col for col in df.columns if 'nodule_type_n' in col] #value should be 3\n",
    "    #for 'other' nodules no information - should check for each one of those what are their attributes - same for 'cancer'\n",
    "\n",
    "    atypical_periphysural_fissural_pfn_triangular_lymph_nodes=[col for col in df.columns if 'pfn_n' in col] \n",
    "    attachment_to_distinguish_atypical_typical=[col for col in df.columns if 'attachment_n' in col and ('___7' in col)]\n",
    "    \n",
    "    peribronchial_bronchiovasc_ln=[col for col in df.columns if 'attachment_n' in col and ('___4' in col)]\n",
    "    peribronchial_bronchiovasc_ln_2=[col for col in df.columns if 'attachment_n' in col and ('___5' in col)]\n",
    "    \n",
    "    location=[col for col in df.columns if 'loc_n' in col]\n",
    "    shape=[col for col in df.columns if 'shape_n' in col]\n",
    "    edge=[col for col in df.columns if 'edge_n' in col]\n",
    "        \n",
    "    #non-nodules do not exist (fibrosis/scar/pleural thickening and other (bone, tissue etc.))\n",
    "\n",
    "    return (calcified_nodules, pleural_nodules, subclass_ground_glass_nodules,\n",
    "            atypical_periphysural_fissural_pfn_triangular_lymph_nodes,attachment_to_distinguish_atypical_typical,\n",
    "            peribronchial_bronchiovasc_ln,peribronchial_bronchiovasc_ln_2,location,shape,edge)"
   ]
  },
  {
   "cell_type": "code",
   "execution_count": 66,
   "id": "b2d4cda9",
   "metadata": {},
   "outputs": [],
   "source": [
    "#Extract columns with nodules of interest for all dfs - same for emphysema/non-emphysema categories\n",
    "(calcified_nodules, pleural_nodules, subclass_ground_glass_nodules,\n",
    " atypical_periphysural_fissural_pfn_triangular_lymph_nodes,attachment_to_distinguish_atypical_typical,\n",
    " peribronchial_bronchiovasc_ln,peribronchial_bronchiovasc_ln_2,location,shape,edge)=extract_information(TP_export)"
   ]
  },
  {
   "cell_type": "code",
   "execution_count": 67,
   "id": "978d1de7",
   "metadata": {},
   "outputs": [],
   "source": [
    "#Combine the above to a single list\n",
    "all_cols=(calcified_nodules+pleural_nodules+subclass_ground_glass_nodules+\n",
    "          atypical_periphysural_fissural_pfn_triangular_lymph_nodes+attachment_to_distinguish_atypical_typical+\n",
    "          peribronchial_bronchiovasc_ln+peribronchial_bronchiovasc_ln_2+location+shape+edge)\n",
    "#We get 60 columns in total"
   ]
  },
  {
   "attachments": {},
   "cell_type": "markdown",
   "id": "c1acf14f",
   "metadata": {},
   "source": [
    "Keep track of nodule id and slice where it can be found"
   ]
  },
  {
   "cell_type": "code",
   "execution_count": 68,
   "id": "9fd73d5c",
   "metadata": {},
   "outputs": [],
   "source": [
    "#Create dictionary with dictionaries in format: {pat:{nod_num:value},...}\n",
    "\n",
    "def add_pat(dictionary,pat,nod_num,slices,vol_dict,volume): \n",
    "    \n",
    "    if pat in dictionary: #If participant in dictionary add/replace one nod_id value to it. Same for volume\n",
    "        dictionary[pat][nod_num]=slices\n",
    "        vol_dict[pat][nod_num]=volume\n",
    "        \n",
    "    else: #If not, then initialize the value of that participant to an empty dictionary and fill in its values\n",
    "        dictionary[pat]={}\n",
    "        dictionary[pat][nod_num]=slices\n",
    "        \n",
    "        vol_dict[pat]={} #Same for dictionary with participant_ids and nod volumes\n",
    "        vol_dict[pat][nod_num]=volume\n",
    "    \n",
    "    return dictionary,vol_dict"
   ]
  },
  {
   "cell_type": "code",
   "execution_count": 24,
   "id": "1a578400",
   "metadata": {},
   "outputs": [],
   "source": [
    "# true_ids_noemph_dict"
   ]
  },
  {
   "cell_type": "code",
   "execution_count": 25,
   "id": "a3636eeb",
   "metadata": {},
   "outputs": [],
   "source": [
    "# adv_TP_fin"
   ]
  },
  {
   "cell_type": "code",
   "execution_count": 71,
   "id": "35c87c6f",
   "metadata": {},
   "outputs": [],
   "source": [
    "def TP_info_redcap(tp_or_fn='tp'):\n",
    "    \"\"\"Function to extract description of TP or FN nodules from REDCap.\"\"\"\n",
    "\n",
    "    # Make below variables accessible outside function without using 'return' and setting new variables:\n",
    "    global calcified, calcified_vol, pleural, pleural_vol, sub_ground, sub_ground_vol, atypical_triangular, atypical_triangular_vol, per_fisu, per_fisu_vol, \\\n",
    "           peri_bronch, peri_bronch_vol, other_all, other_all_emph, other_all_noemph, other_all_vol, atypical_triangular_emph, per_fisu_emph, peri_bronch_emph, \\\n",
    "           calcified_emph, pleural_emph, sub_ground_emph, atypical_triangular_noemph, per_fisu_noemph, peri_bronch_noemph, calcified_noemph, pleural_noemph, sub_ground_noemph \n",
    "\n",
    "    #Initialize empty lists for nodule categories - also empty lists for their volumes to be filled in\n",
    "\n",
    "    #For this and for the below one maybe also 'shape'=>3,4 means more benign. Not used for now\n",
    "    atypical_triangular={} #'pfn_n'=>3 caution: 2,3 exist also for typical/fissural (if for attachement_n7 value is 1)\n",
    "    atypical_triangular_vol={}\n",
    "    per_fisu={} #'pfn_n'=>2,3 and attachment_n7 value is 1. Look above for more\n",
    "    per_fisu_vol={}\n",
    "    peri_bronch={} #'attachment'=> n4,n5=1\n",
    "    peri_bronch_vol={}\n",
    "\n",
    "    calcified={} #'calcification' =>2-6\n",
    "    calcified_vol={}\n",
    "    pleural={}#'attachment'=> n_2=1\n",
    "    pleural_vol={}\n",
    "    sub_ground={} #'nodule_type' =>3\n",
    "    sub_ground_vol={}\n",
    "\n",
    "    #For other type of nodules not in the above categories\n",
    "    other_all={}\n",
    "    other_all_emph={}\n",
    "    other_all_noemph={}\n",
    "    other_all_vol={}\n",
    "\n",
    "    #Non-nodule categories not exist in REDCap\n",
    "\n",
    "\n",
    "    #For emphysema/non-emphysema table - Not sure if needed given that we can obtain those from original dict combined with \n",
    "    #list of participants that belong to each degree, found above\n",
    "\n",
    "    #emphysema\n",
    "    atypical_triangular_emph={}\n",
    "    per_fisu_emph={}\n",
    "    peri_bronch_emph={}\n",
    "    calcified_emph={}\n",
    "    pleural_emph={}\n",
    "    sub_ground_emph={}\n",
    "\n",
    "    #non-emphysema\n",
    "    atypical_triangular_noemph={}\n",
    "    per_fisu_noemph={}\n",
    "    peri_bronch_noemph={}\n",
    "    calcified_noemph={}\n",
    "    pleural_noemph={}\n",
    "    sub_ground_noemph={}\n",
    "\n",
    "\n",
    "    if tp_or_fn=='tp':\n",
    "        type_extract='true_ids_'\n",
    "        attr='_TP_fin'\n",
    "    else:\n",
    "        type_extract='false_ids_'\n",
    "        attr='_df_fn'\n",
    "\n",
    "    #Implement above definition of each type of finding and store each variable in the corresponding dictionary\n",
    "\n",
    "    for deg in emph_deg: #Loop over emphysema/non-emphysema degrees (in the form 'adv_tp')\n",
    "        \n",
    "        #Loop over participant ids and actual nod_ids of TPs in REDCap - from 1 to 10\n",
    "        for pat,nods in eval(type_extract+deg[:-3]+'_dict.items()'): \n",
    "\n",
    "            for nod_num in nods: #Loop over TP nodule ids\n",
    "                \n",
    "                flag=0 #Initialize a flag to help us distinguish atypical from fissural PFN - when both have 'pfn' value=3 \n",
    "                flag_any=0 #Flag to check if we got in any of the below categories\n",
    "                \n",
    "                #Get columns with volume for a specific nodule id - need two statements to distinguish 'n1' from 'n10'\n",
    "                if nod_num!=1:\n",
    "                    nod_cols=[col for col in all_cols if '_n'+str(nod_num) in col]\n",
    "                    vol_cols=[col for col in TP_export.columns if 'volume_all_n'+str(nod_num) in col]\n",
    "                    slice_cols=[col for col in TP_export.columns if 'slice_number_n'+str(nod_num) in col]\n",
    "                else:\n",
    "                    nod_cols=[col for col in all_cols if '_n1' in col and '_n10' not in col]\n",
    "                    vol_cols=[col for col in TP_export.columns if 'volume_all_n'+str(nod_num) in col and '_n10' not in col]\n",
    "                    slice_cols=[col for col in TP_export.columns if 'slice_number_n'+str(nod_num) in col and '_n10' not in col]\n",
    "\n",
    "                #  #For debug\n",
    "    #             if pat==490144:\n",
    "    #                 print(pat,nod_num)\n",
    "    #                 print(eval(deg[:-3]+\"_TP_fin[\"+deg[:-3]+\"_TP_fin['participant_id']==\"+str(pat)+\"][nod_cols]\"))\n",
    "                    \n",
    "                #Get all values and volumes for a specific nodule id. Order is as defined above:\n",
    "                #calcified,pleural,subclass_ground_glass,atypical_periphysural_fissural,\n",
    "                #attachment_to_distinguish_atypical_typical,peri_bronch_ln,peri_bronch_ln_2,location,shape,edge\n",
    "                all_values=eval(deg[:-3]+attr+\"[\"+deg[:-3]+attr+\"['participant_id']==\"+str(pat)+\"][nod_cols].values[0]\")\n",
    "                all_volumes=eval(deg[:-3]+attr+\"[\"+deg[:-3]+attr+\"['participant_id']==\"+str(pat)+\"][vol_cols].values[0]\")\n",
    "                all_slices=eval(deg[:-3]+attr+\"[\"+deg[:-3]+attr+\"['participant_id']==\"+str(pat)+\"][slice_cols].values[0]\")\n",
    "                \n",
    "                if np.isnan(all_values[0]): #'calcification'\n",
    "                    print('For ', pat, 'we have nan calcified in nod number (in REDCap)',nod_num)\n",
    "                elif all_values[0]!=1: #Could be 2-6 which signifies calcified nodule\n",
    "                    flag_any=1\n",
    "                    add_pat(calcified,pat,nod_num,all_slices[0],calcified_vol,all_volumes[0]) #Add to dict with all patients\n",
    "                    if 'noemph' in deg: #Add it to dict with only nonemphysema participants\n",
    "                        add_pat(calcified_noemph,pat,nod_num,all_slices[0],calcified_vol,all_volumes[0])\n",
    "                    else: #Add it to dict with only emphysema participants\n",
    "                        add_pat(calcified_emph,pat,nod_num,all_slices[0],calcified_vol,all_volumes[0])\n",
    "                \n",
    "\n",
    "                if np.isnan(all_values[2]): #For subsolid/ground glass nodules the 'nodule_type' must be 3 (ground glass) or 2 (partial solid)\n",
    "                    print('For ', pat, 'we have nan nodule type in nod number (in REDCap)',nod_num)\n",
    "                elif all_values[2]==3 or all_values[2]==2:\n",
    "                    flag_any=1\n",
    "                    add_pat(sub_ground,pat,nod_num,all_slices[0],sub_ground_vol,all_volumes[0])\n",
    "                    if 'noemph' in deg:\n",
    "                        add_pat(sub_ground_noemph,pat,nod_num,all_slices[0],sub_ground_vol,all_volumes[0])\n",
    "                    else:\n",
    "                        add_pat(sub_ground_emph,pat,nod_num,all_slices[0],sub_ground_vol,all_volumes[0])\n",
    "                    \n",
    "                    \n",
    "                if np.isnan(all_values[3]): #For atypical we want 'pfn' to be 3 or 4 and 'attachment_7' to be 1\n",
    "                    print('for ', pat, 'we have nan for pfn_n in nod number (in REDCap)',nod_num)\n",
    "\n",
    "                elif all_values[3]==3: #If 'pfn' is 3 then 'attachment_7' has to be checked\n",
    "                #- For 'pfn'=4 (don't know) we agreed to consider them as 'No'\n",
    "                    \n",
    "                    flag=1 #That means that we check if it's atypical\n",
    "                    flag_any=1\n",
    "                    \n",
    "                    if ((all_values[8]==3 or all_values[8]==4 or all_values[8]==2 or all_values[8]==1) or all_values[9]==1 #shape triangular, polygonal or oval (or round)\n",
    "                        and all_values[0]==1): #non-calcified\n",
    "                    \n",
    "                        if all_values[4]==0 and np.isnan(all_values[4])==False: #If 'attachment_7' is 0 then atypical\n",
    "                            add_pat(atypical_triangular,pat,nod_num,all_slices[0],atypical_triangular_vol,all_volumes[0])\n",
    "                            if 'noemph' in deg:\n",
    "                                add_pat(atypical_triangular_noemph,pat,nod_num,all_slices[0],atypical_triangular_vol,all_volumes[0])\n",
    "                            else:\n",
    "                                add_pat(atypical_triangular_emph,pat,nod_num,all_slices[0],atypical_triangular_vol,all_volumes[0])\n",
    "\n",
    "                    \n",
    "                    else:\n",
    "                        print('atypical PFN error - either shape or calcification not match even if attachment correct for pat',pat)\n",
    "                        if all_values[4]==0:# and np.isnan(all_values[4])==False: #If 'attachment_7' is 0 then atypical\n",
    "                            add_pat(atypical_triangular,pat,nod_num,all_slices[0],atypical_triangular_vol,all_volumes[0])\n",
    "                            if 'noemph' in deg:\n",
    "                                add_pat(atypical_triangular_noemph,pat,nod_num,all_slices[0],atypical_triangular_vol,all_volumes[0])\n",
    "                            else:\n",
    "                                add_pat(atypical_triangular_emph,pat,nod_num,all_slices[0],atypical_triangular_vol,all_volumes[0])\n",
    "                        else:\n",
    "                            print(\"Added as atypical although attributes do not match (attach_7=1) for pat\",pat)\n",
    "                            add_pat(atypical_triangular,pat,nod_num,all_slices[0],atypical_triangular_vol,all_volumes[0])\n",
    "                            if 'noemph' in deg:\n",
    "                                add_pat(atypical_triangular_noemph,pat,nod_num,all_slices[0],atypical_triangular_vol,all_volumes[0])\n",
    "                            else:\n",
    "                                add_pat(atypical_triangular_emph,pat,nod_num,all_slices[0],atypical_triangular_vol,all_volumes[0])\n",
    "                            \n",
    "                #if 'pfn' is 2 or 3 (typical PFN- possible/atypical pfn) and attachment_7=1 (fissural) then peri/fis\n",
    "                if all_values[3]==2 or all_values[3]==3: \n",
    "                    flag_any=1\n",
    "                    if ((all_values[8]==3 or all_values[8]==4 or all_values[8]==2 or all_values[8]==1) #shape triangular, polygonal or oval (or round)\n",
    "                        and all_values[0]==1): #non-calcified\n",
    "                        \n",
    "                        if all_values[4]==1: #If attachment_7 is 1 we have typical PFNs\n",
    "                            add_pat(per_fisu,pat,nod_num,all_slices[0],per_fisu_vol,all_volumes[0])   \n",
    "                            if 'noemph' in deg:\n",
    "                                add_pat(per_fisu_noemph,pat,nod_num,all_slices[0],per_fisu_vol,all_volumes[0])\n",
    "                            else:\n",
    "                                add_pat(per_fisu_emph,pat,nod_num,all_slices[0],per_fisu_vol,all_volumes[0])\n",
    "                                \n",
    "                        elif all_values[4]==0 and all_values[3]==2: #If 'attachment_7'=0 and 'pfn'=2\n",
    "                            print('pat:',pat,'nod_id:',nod_num,'. Error! We expected attachment_7 to be 1 given that pfn=2 (typical PFN) but it is 0! Need to check manually')\n",
    "                            print(\"For now added in PFN group (periphysural)\")\n",
    "\n",
    "                            add_pat(per_fisu,pat,nod_num,all_slices[0],per_fisu_vol,all_volumes[0])   \n",
    "                            if 'noemph' in deg:\n",
    "                                add_pat(per_fisu_noemph,pat,nod_num,all_slices[0],per_fisu_vol,all_volumes[0])\n",
    "                            else:\n",
    "                                add_pat(per_fisu_emph,pat,nod_num,all_slices[0],per_fisu_vol,all_volumes[0])\n",
    "                            \n",
    "                        elif flag==1: #If we also check for 'atypical' then don't do anything since all scenarios already considered\n",
    "                            pass\n",
    "                        else:\n",
    "                            print('We should never be in here for pat',pat,'with nod id',nod_num,'and values',all_values,'need manual check')\n",
    "\n",
    "                    else:\n",
    "                        if all_values[4]==1 and all_values[0]==1: #If attachment_7 is 1 we have typical PFNs and calcified is no\n",
    "                            add_pat(per_fisu,pat,nod_num,all_slices[0],per_fisu_vol,all_volumes[0])   \n",
    "                            if 'noemph' in deg:\n",
    "                                add_pat(per_fisu_noemph,pat,nod_num,all_slices[0],per_fisu_vol,all_volumes[0])\n",
    "                            else:\n",
    "                                add_pat(per_fisu_emph,pat,nod_num,all_slices[0],per_fisu_vol,all_volumes[0])\n",
    "                                \n",
    "                        elif all_values[4]==0 and all_values[3]==2 and all_values[0]==1: #If 'attachment_7'=0 and 'pfn'=2 and calcified is no\n",
    "                            print('pat:',pat,'nod_id:',nod_num,'. Error! We expected attachment_7 to be 1 given that pfn=2 (typical PFN) but it is 0! Need to check manually')\n",
    "                            print(\"For now added in PFN group (periphysural)\")\n",
    "\n",
    "                            add_pat(per_fisu,pat,nod_num,all_slices[0],per_fisu_vol,all_volumes[0])   \n",
    "                            if 'noemph' in deg:\n",
    "                                add_pat(per_fisu_noemph,pat,nod_num,all_slices[0],per_fisu_vol,all_volumes[0])\n",
    "                            else:\n",
    "                                add_pat(per_fisu_emph,pat,nod_num,all_slices[0],per_fisu_vol,all_volumes[0])\n",
    "                            \n",
    "                        elif flag==1: #If we also check for 'atypical' then don't do anything since all scenarios already considered\n",
    "                            print(pat,nod_num,\"Classified as typical or atypical PFN but should be checked manually - There are attribute errors!\")\n",
    "                            if all_values[3]==2:\n",
    "                                add_pat(per_fisu,pat,nod_num,all_slices[0],per_fisu_vol,all_volumes[0])   \n",
    "                                if 'noemph' in deg:\n",
    "                                    add_pat(per_fisu_noemph,pat,nod_num,all_slices[0],per_fisu_vol,all_volumes[0])\n",
    "                                else:\n",
    "                                    add_pat(per_fisu_emph,pat,nod_num,all_slices[0],per_fisu_vol,all_volumes[0])\n",
    "                            else: #only possible value =3 here\n",
    "                                    add_pat(atypical_triangular,pat,nod_num,all_slices[0],atypical_triangular_vol,all_volumes[0])\n",
    "                                    if 'noemph' in deg:\n",
    "                                        add_pat(atypical_triangular_noemph,pat,nod_num,all_slices[0],atypical_triangular_vol,all_volumes[0])\n",
    "                                    else:\n",
    "                                        add_pat(atypical_triangular_emph,pat,nod_num,all_slices[0],atypical_triangular_vol,all_volumes[0])\n",
    "                        else:\n",
    "                            print('2.We should never be in here for pat',pat,'with nod id',nod_num,'and values',all_values,'need manual check. Added in PFN group (periphysural)')\n",
    "                            add_pat(per_fisu,pat,nod_num,all_slices[0],per_fisu_vol,all_volumes[0])   \n",
    "                            if 'noemph' in deg:\n",
    "                                add_pat(per_fisu_noemph,pat,nod_num,all_slices[0],per_fisu_vol,all_volumes[0])\n",
    "                            else:\n",
    "                                add_pat(per_fisu_emph,pat,nod_num,all_slices[0],per_fisu_vol,all_volumes[0])\n",
    "                    \n",
    "                \n",
    "                if np.isnan(all_values[1]): #For pleural nodules 'attachment_2' has to be 1\n",
    "                    print('for ', pat, 'we have nan in attachment__2 in nod number (in REDCap)',nod_num)\n",
    "                elif all_values[1]==1:\n",
    "                    flag_any=1\n",
    "                    add_pat(pleural,pat,nod_num,all_slices[0],pleural_vol,all_volumes[0])\n",
    "                    if 'noemph' in deg:\n",
    "                        add_pat(pleural_noemph,pat,nod_num,all_slices[0],pleural_vol,all_volumes[0])\n",
    "                    else:\n",
    "                        add_pat(pleural_emph,pat,nod_num,all_slices[0],pleural_vol,all_volumes[0])\n",
    "                    \n",
    "                #For perinbronchial/bronchiovascular lymph nodes we want 'nodule_type' to be 1 and 'location' central,\n",
    "                #and 'edge' smooth, and 'shape' triangular or polygonal\n",
    "                if (all_values[7]==1 and (all_values[8]==3 or all_values[8]==4) and all_values[9]==1 and \n",
    "                    all_values[2]==1):\n",
    "                                \n",
    "                    #Also 'attachment_4' or 'attachment_5' has to be 1\n",
    "                    if np.isnan(all_values[5]): \n",
    "                        print('for ', pat, 'we have nan in attachment!__4 in nod number (in REDCap)',nod_num)\n",
    "                    elif all_values[6]==1 or all_values[5]==1:\n",
    "                        add_pat(peri_bronch,pat,nod_num,all_slices[0],peri_bronch_vol,all_volumes[0])\n",
    "                        if 'noemph' in deg:\n",
    "                            add_pat(peri_bronch_noemph,pat,nod_num,all_slices[0],peri_bronch_vol,all_volumes[0])\n",
    "                        else:\n",
    "                            add_pat(peri_bronch_emph,pat,nod_num,all_slices[0],peri_bronch_vol,all_volumes[0])\n",
    "\n",
    "                        if all_values[5]==1:\n",
    "                            print(\"Peribronchial finding in participant\",pat,\"with nod_num is\",nod_num, '(degree is',deg,'). For now, included in our analysis')\n",
    "\n",
    "                            \n",
    "                    else: #for cases in which all attachments are 0 - probably errors\n",
    "                        if flag_any==0 :\n",
    "                            print(\"Attachments empty for pat\",pat,\"with nod id\",nod_num)\n",
    "                            #if 'pfn' is 'No' or 'I don't know and not in any other nodule category, then add it to 'other nodule'\n",
    "                            if all_values[3]==1 or all_values[3]==4: \n",
    "                                print(\"We consider as nodule the id\",nod_num,\"of participant\",pat)\n",
    "                                add_pat(other_all,pat,nod_num,all_slices[0],other_all_vol,all_volumes[0])\n",
    "                                if 'noemph' in deg:\n",
    "                                    add_pat(other_all_noemph,pat,nod_num,all_slices[0],other_all_vol,all_volumes[0])\n",
    "                                else:\n",
    "                                    add_pat(other_all_emph,pat,nod_num,all_slices[0],other_all_vol,all_volumes[0])\n",
    "                            else:#If is pfn and attachments empty then add to typical/atypical\n",
    "                                if all_values[3]==2:\n",
    "                                    add_pat(per_fisu,pat,nod_num,all_slices[0],per_fisu_vol,all_volumes[0])   \n",
    "                                    if 'noemph' in deg:\n",
    "                                        add_pat(per_fisu_noemph,pat,nod_num,all_slices[0],per_fisu_vol,all_volumes[0])\n",
    "                                    else:\n",
    "                                        add_pat(per_fisu_emph,pat,nod_num,all_slices[0],per_fisu_vol,all_volumes[0])\n",
    "                                else: #only possible value =3 here\n",
    "                                        add_pat(atypical_triangular,pat,nod_num,all_slices[0],atypical_triangular_vol,all_volumes[0])\n",
    "                                        if 'noemph' in deg:\n",
    "                                            add_pat(atypical_triangular_noemph,pat,nod_num,all_slices[0],atypical_triangular_vol,all_volumes[0])\n",
    "                                        else:\n",
    "                                            add_pat(atypical_triangular_emph,pat,nod_num,all_slices[0],atypical_triangular_vol,all_volumes[0])\n",
    "                            print(\"\\n\")\n",
    "                    flag_any=1\n",
    "                \n",
    "                #Check for errors - Cases where we didn't get in any of the conditions above - new categories\n",
    "                if (all_values[0]==1 and all_values[2]!=3 and all_values[3]!=2 and all_values[3]!=3  and #and all_values[3]!=4\n",
    "                    all_values[1]==0 and all_values[2]!=2 and\n",
    "                    all_values[7]!=1 and (all_values[8]!=3 and all_values[8]!=4) and all_values[9]!=1 and all_values[2]!=1):\n",
    "                    \n",
    "                        print(\"None of the above categories for participant\",pat,\"with nod id\",nod_num,\"and with values\",all_values)\n",
    "                        print('flag_any is',flag_any)\n",
    "                        print('flag is',flag)\n",
    "                        \n",
    "                flag=0 #Set value to 0 before looping to next nodule     \n",
    "                \n",
    "                if flag_any==0:\n",
    "                \n",
    "                    #if 'pfn' is 'No' or 'I don't know and not in any other nodule category, then add it to 'other nodule'\n",
    "                    if all_values[3]==1 or all_values[3]==4:              \n",
    "                        add_pat(other_all,pat,nod_num,all_slices[0],other_all_vol,all_volumes[0])\n",
    "                        if 'noemph' in deg:\n",
    "                            add_pat(other_all_noemph,pat,nod_num,all_slices[0],other_all_vol,all_volumes[0])\n",
    "                        else:\n",
    "                            add_pat(other_all_emph,pat,nod_num,all_slices[0],other_all_vol,all_volumes[0])\n",
    "                    \n",
    "                flag_any=0"
   ]
  },
  {
   "cell_type": "code",
   "execution_count": 72,
   "id": "e685c036",
   "metadata": {},
   "outputs": [
    {
     "name": "stdout",
     "output_type": "stream",
     "text": [
      "Peribronchial finding in participant 585377 with nod_num is 8 (degree is noemph_tp ). For now, included in our analysis\n",
      "Peribronchial finding in participant 585377 with nod_num is 2 (degree is noemph_tp ). For now, included in our analysis\n",
      "Peribronchial finding in participant 320656 with nod_num is 5 (degree is noemph_tp ). For now, included in our analysis\n",
      "Attachments empty for pat 985215 with nod id 9\n",
      "We consider as nodule the id 9 of participant 985215\n",
      "\n",
      "\n"
     ]
    }
   ],
   "source": [
    "TP_info_redcap(tp_or_fn='tp')"
   ]
  },
  {
   "attachments": {},
   "cell_type": "markdown",
   "id": "38b4d3c4",
   "metadata": {},
   "source": [
    "Those with errors haven't been added anywhere (like '2.We should never be in here for pat ....'). Should be checked manually!"
   ]
  },
  {
   "cell_type": "code",
   "execution_count": 26,
   "id": "aef3a7b9",
   "metadata": {},
   "outputs": [],
   "source": [
    "# noemph_dict #True nodule ids added in REDCap can be found in these dictionaries"
   ]
  },
  {
   "cell_type": "code",
   "execution_count": 74,
   "id": "c90cc268",
   "metadata": {},
   "outputs": [],
   "source": [
    "#Define nodule group names (+lymph nodes)\n",
    "nod_groups=['sub_ground','atypical_triangular','per_fisu','pleural', 'peri_bronch','calcified','other_all']"
   ]
  },
  {
   "cell_type": "code",
   "execution_count": 75,
   "id": "2cff705d",
   "metadata": {},
   "outputs": [],
   "source": [
    "# #For debugging\n",
    "# #Print which groups have nodules from particular patient\n",
    "# for group_nam in nod_groups:\n",
    "#     try:\n",
    "#         print('group',group_nam,'is',eval(group_nam+'[845334]'))\n",
    "#     except:         \n",
    "#         pass"
   ]
  },
  {
   "cell_type": "code",
   "execution_count": 27,
   "id": "c0e3912b",
   "metadata": {},
   "outputs": [],
   "source": [
    "# calcified"
   ]
  },
  {
   "cell_type": "code",
   "execution_count": 28,
   "id": "abecf7b4",
   "metadata": {},
   "outputs": [],
   "source": [
    "# other_all"
   ]
  },
  {
   "cell_type": "code",
   "execution_count": 78,
   "id": "7874aee8",
   "metadata": {},
   "outputs": [],
   "source": [
    "def errors_check(tp_or_fn='tp'):\n",
    "    \"Function to correct errors in REDCap data entry\"\n",
    "    \n",
    "    if tp_or_fn=='tp':\n",
    "        type_extract='true_ids_'\n",
    "    else:\n",
    "        type_extract='false_ids_'\n",
    "\n",
    "    #Check for participants that were not added in any of the categories above, or for particular nodules that were not added\n",
    "\n",
    "    degrees=['mod','adv','conf','noemph'] #List of degree names\n",
    "\n",
    "    for deg in degrees: #Loop over each degree\n",
    "        print(\"Checking nodules of\",deg,'degree....')\n",
    "        \n",
    "        for pat_id in eval(type_extract+deg+'_dict'): #Loop over participant with TP nodules of participants of that degree \n",
    "            \n",
    "            nod_ids=eval(type_extract+deg+'_dict'+'[pat_id]') #Get all possible nodules ids for that participant (from 1-10)\n",
    "            emph_found=[] #Initialize list to empty to be filled with nodule ids that were not added in any of the lists above\n",
    "            \n",
    "            for group in nod_groups: #Loop over each of the nodule groups\n",
    "                \n",
    "                emph_group=eval(group) #Get a variable with that group's dictionary\n",
    "\n",
    "                if pat_id in emph_group: #If participant in that dictionary\n",
    "                    nod_emph=emph_group[pat_id] #Get nodule dictionary of that participant\n",
    "                    for nod_found in nod_emph: #Loop over nodule ids of that participant\n",
    "                        emph_found.append(nod_found) #Add that nodule id in the above list\n",
    "\n",
    "            missed=list(set(nod_ids) - set(emph_found)) #Get which nodules not added in the above list (not in any category)\n",
    "\n",
    "\n",
    "            if len(emph_found)==len(nod_ids): #All nodule included -those are the correct ones, no need for further check\n",
    "                pass\n",
    "\n",
    "            #For those below more manual checks are needed\n",
    "            else:\n",
    "                flag=0\n",
    "                \n",
    "                if len(emph_found)==0: #All nodules for that participant belong to a different category\n",
    "                    print(pat_id,'all nodules',missed,\"not added in any category\")\n",
    "                    flag=1\n",
    "\n",
    "                if len(emph_found)!=len(np.unique(emph_found)): #Nodules missed and some that belong to multiple categories\n",
    "                    print(pat_id,\"has\",missed,\"nodules not added in any category, and nodules with multiple attributes\",list(set([i for i in emph_found if emph_found.count(i)>1])))\n",
    "                    flag=1\n",
    "                    check_elements=list(set([i for i in emph_found if emph_found.count(i)>1]))\n",
    "                    \n",
    "                if flag==0: #Some nodules of a participant that don't belong to any of the above categories\n",
    "                    print(pat_id,'nodules',missed,\"weren't added in any category\")\n",
    "                flag=0\n",
    "\n",
    "            \n",
    "            if ((len(missed)==0 or len(emph_found)!=len(np.unique(emph_found))) and len(emph_found)!=len(nod_ids) and len(emph_found)!=0):\n",
    "                nod_ids=eval(type_extract+deg+'_dict'+'[pat_id]') #Get all possible nodules ids for that participant (from 1-10)\n",
    "                emph_found=[] #Initialize list to empty to be filled with nodule ids that were not added in any of the lists above\n",
    "                print(\"Deletion starts.......\")\n",
    "\n",
    "                for group in nod_groups[:-1]: #Loop over each of the nodule groups\n",
    "\n",
    "                    emph_group=eval(group) #Get a variable with that group's dictionary\n",
    "\n",
    "                    if pat_id in emph_group: #Loop over participants in that dictionary\n",
    "                        nod_emph=emph_group[pat_id] #Get nodule dictionary of that participant\n",
    "                        should_del=[] #list of keys that should be deleted\n",
    "                        \n",
    "                        for key,nod_found in nod_emph.items(): #Loop over nodules of that participant\n",
    "                            \n",
    "                                if key in check_elements:\n",
    "                                    emph_found.append(key) #Add that nodule in the above list\n",
    "                                    emph_found.append(group)\n",
    "\n",
    "                                    try: #Get volume and add to corresponding dictionary\n",
    "                                        vol=eval(group+'_vol'+\"[\"+str(pat_id)+\"][\"+str(key)+\"]\")\n",
    "                                        all_slices=eval(group+\"[\"+str(pat_id)+\"][\"+str(key)+\"]\")\n",
    "\n",
    "                                        add_pat(other_all,pat_id,key,all_slices,other_all_vol,vol)\n",
    "                                        if 'noemph' in deg:\n",
    "                                            add_pat(other_all_noemph,pat_id,key,all_slices,other_all_vol,vol)\n",
    "                                        else:\n",
    "                                            add_pat(other_all_emph,pat_id,key,all_slices,other_all_vol,vol)\n",
    "                                            \n",
    "                                        should_del.append(key)\n",
    "                                        \n",
    "                                    except:\n",
    "                                        print('Error - sth went wrong')\n",
    "                                        pass\n",
    "                        \n",
    "                        for ind_del in should_del: #Delete keys from corresponding dictionaries along with their volumes\n",
    "                            \n",
    "                            try:\n",
    "                                exec(\"del \"+group+\"[pat_id][ind_del]\")\n",
    "                                exec(\"del \"+group+\"_vol[pat_id][ind_del]\")\n",
    "                                print('Deleted nodule of participant',pat_id,' with id',ind_del,'from group',group)\n",
    "                                \n",
    "                                try:\n",
    "                                    exec(\"del \"+group+\"_noemph[pat_id][ind_del]\")\n",
    "                                    print('Deleted nodule from non-emphysema group with id',ind_del,'from group',group)\n",
    "                                except:\n",
    "                                    exec(\"del \"+group+\"_emph[pat_id][ind_del]\")\n",
    "                                    print('Deleted nodule from emphysema group with id',ind_del,'from group',group)\n",
    "                                \n",
    "                            except:\n",
    "                                print('Deletion error')\n",
    "                                print(traceback.print_exc())\n",
    "                                pass\n",
    "            \n",
    "                print(\"Here are multiple attributes for\",pat_id,\":\", emph_found)\n",
    "                print('\\n')"
   ]
  },
  {
   "cell_type": "code",
   "execution_count": 29,
   "id": "c0681f98",
   "metadata": {},
   "outputs": [],
   "source": [
    "errors_check(tp_or_fn='tp')"
   ]
  },
  {
   "cell_type": "code",
   "execution_count": 30,
   "id": "26590947",
   "metadata": {},
   "outputs": [],
   "source": [
    "# calcified"
   ]
  },
  {
   "cell_type": "code",
   "execution_count": 31,
   "id": "7c59d2fe",
   "metadata": {},
   "outputs": [],
   "source": [
    "# other_all"
   ]
  },
  {
   "cell_type": "markdown",
   "id": "5b428a88",
   "metadata": {},
   "source": [
    "Atypical lymph nodes will be considered in the nodule group"
   ]
  },
  {
   "cell_type": "code",
   "execution_count": 82,
   "id": "06ae6903",
   "metadata": {},
   "outputs": [],
   "source": [
    "#Define nodule group names\n",
    "nod_groups_only=['sub_ground','pleural', 'calcified','other_all','atypical_triangular'] \n",
    "lymph_groups=['per_fisu','peri_bronch']"
   ]
  },
  {
   "attachments": {},
   "cell_type": "markdown",
   "id": "13977ef6",
   "metadata": {},
   "source": [
    "#### Get actual number of TP for nods and for lymph nodes"
   ]
  },
  {
   "cell_type": "code",
   "execution_count": 83,
   "id": "630c8583",
   "metadata": {},
   "outputs": [
    {
     "name": "stdout",
     "output_type": "stream",
     "text": [
      "Checking findings of _emph degree....\n",
      "sub_ground_emph 1\n",
      "sub_ground_emph30_100 1\n",
      "sub_ground_emph100-300 0\n",
      "sub_ground_emph300+ 0\n",
      "\n",
      "\n",
      "pleural_emph 1\n",
      "pleural_emph30_100 0\n",
      "pleural_emph100-300 1\n",
      "pleural_emph300+ 0\n",
      "\n",
      "\n",
      "calcified_emph 3\n",
      "calcified_emph30_100 1\n",
      "calcified_emph100-300 2\n",
      "calcified_emph300+ 0\n",
      "\n",
      "\n",
      "other_all_emph 28\n",
      "other_all_emph30_100 16\n",
      "other_all_emph100-300 12\n",
      "other_all_emph300+ 0\n",
      "\n",
      "\n",
      "atypical_triangular_emph 1\n",
      "atypical_triangular_emph30_100 1\n",
      "atypical_triangular_emph100-300 0\n",
      "atypical_triangular_emph300+ 0\n",
      "\n",
      "\n",
      "per_fisu_emph 6\n",
      "peri_bronch_emph 0\n",
      "\n",
      "\n",
      "Checking findings of _noemph degree....\n",
      "sub_ground_noemph 5\n",
      "sub_ground_noemph30_100 3\n",
      "sub_ground_noemph100-300 2\n",
      "sub_ground_noemph300+ 0\n",
      "\n",
      "\n",
      "pleural_noemph 5\n",
      "pleural_noemph30_100 4\n",
      "pleural_noemph100-300 1\n",
      "pleural_noemph300+ 0\n",
      "\n",
      "\n",
      "calcified_noemph 3\n",
      "calcified_noemph30_100 3\n",
      "calcified_noemph100-300 0\n",
      "calcified_noemph300+ 0\n",
      "\n",
      "\n",
      "other_all_noemph 37\n",
      "other_all_noemph30_100 26\n",
      "other_all_noemph100-300 11\n",
      "other_all_noemph300+ 0\n",
      "\n",
      "\n",
      "atypical_triangular_noemph 7\n",
      "atypical_triangular_noemph30_100 7\n",
      "atypical_triangular_noemph100-300 0\n",
      "atypical_triangular_noemph300+ 0\n",
      "\n",
      "\n",
      "per_fisu_noemph 12\n",
      "peri_bronch_noemph 0\n",
      "\n",
      "\n"
     ]
    }
   ],
   "source": [
    "for emph in ['_emph','_noemph']: #Loop over emphysema/non-emphysema degrees\n",
    "    print(\"Checking findings of\",emph,'degree....')\n",
    "    \n",
    "    for nod_group in nod_groups_only: #Loop over nodule groups\n",
    "        \n",
    "        #Get total num of values in that group\n",
    "        exec(nod_group+emph+'_nod_only='+'sum([len(x) for x in '+nod_group+emph+'.values()])') \n",
    "        print(nod_group+emph,eval(nod_group+emph+'_nod_only'))\n",
    "        \n",
    "        #Get volumes for each group\n",
    "        exec(nod_group+emph+'_nod_only_30_100=0')\n",
    "        exec(nod_group+emph+'_nod_only_100_300=0')\n",
    "        exec(nod_group+emph+'_nod_only_300=0')\n",
    "        \n",
    "        for pat in eval(nod_group+emph+'.keys()'): #Loop over participants of that group\n",
    "            exec(nod_group+emph+'_nod_only_30_100+='+'len([1 for val in '+nod_group+'_vol[pat].values() if val>=30 and val<100])')\n",
    "            exec(nod_group+emph+'_nod_only_100_300+='+'len([1 for val in '+nod_group+'_vol[pat].values() if val>=100 and val<=300])')\n",
    "            exec(nod_group+emph+'_nod_only_300+='+'len([1 for val in '+nod_group+'_vol[pat].values() if val>300])')\n",
    "            \n",
    "        print(nod_group+emph+'30_100',eval(nod_group+emph+'_nod_only_30_100'))\n",
    "        print(nod_group+emph+'100-300',eval(nod_group+emph+'_nod_only_100_300'))\n",
    "        print(nod_group+emph+'300+',eval(nod_group+emph+'_nod_only_300'))\n",
    "        print(\"\\n\")\n",
    "        \n",
    "        #Save them to be used in the other file to create tables with these numbers           \n",
    "        with open(nod_group+emph+'_nod_only'+'.pickle','wb') as f:\n",
    "            pickle.dump(eval(nod_group+emph+'_nod_only'),f)          \n",
    "            \n",
    "        with open(nod_group+emph+'_nod_only_30_100'+'.pickle','wb') as f:\n",
    "            pickle.dump(eval(nod_group+emph+'_nod_only_30_100'),f)\n",
    "        with open(nod_group+emph+'_nod_only_100_300'+'.pickle','wb') as f:\n",
    "            pickle.dump(eval(nod_group+emph+'_nod_only_100_300'),f)\n",
    "        with open(nod_group+emph+'_nod_only_300'+'.pickle','wb') as f:\n",
    "            pickle.dump(eval(nod_group+emph+'_nod_only_300'),f)\n",
    "     \n",
    "    #Same as above for lymph nodes        \n",
    "    for lymph_group in lymph_groups:\n",
    "        \n",
    "        exec(lymph_group+emph+'_lymph='+'sum([len(x) for x in '+lymph_group+emph+'.values()])')\n",
    "        print(lymph_group+emph,eval(lymph_group+emph+'_lymph'))\n",
    "        \n",
    "        #Get volumes for each group\n",
    "        exec(lymph_group+emph+'_lymph_30_100=0')\n",
    "        exec(lymph_group+emph+'_lymph_100_300=0')\n",
    "        exec(lymph_group+emph+'_lymph_300=0')\n",
    "        \n",
    "        for pat in eval(lymph_group+emph+'.keys()'):\n",
    "            exec(lymph_group+emph+'_lymph_30_100+='+'len([1 for val in '+lymph_group+'_vol[pat].values() if val>=30 and val<100])')\n",
    "            exec(lymph_group+emph+'_lymph_100_300+='+'len([1 for val in '+lymph_group+'_vol[pat].values() if val>=100 and val<=300])')\n",
    "            exec(lymph_group+emph+'_lymph_300+='+'len([1 for val in '+lymph_group+'_vol[pat].values() if val>300])')\n",
    "     \n",
    "    \n",
    "        with open(lymph_group+emph+'_lymph'+'.pickle','wb') as f:\n",
    "            pickle.dump(eval(lymph_group+emph+'_lymph'),f)\n",
    "    \n",
    "        with open(lymph_group+emph+'_lymph_30_100'+'.pickle','wb') as f:\n",
    "            pickle.dump(eval(lymph_group+emph+'_lymph_30_100'),f)\n",
    "        with open(lymph_group+emph+'_lymph_100_300'+'.pickle','wb') as f:\n",
    "            pickle.dump(eval(lymph_group+emph+'_lymph_100_300'),f)\n",
    "        with open(lymph_group+emph+'_lymph_300'+'.pickle','wb') as f:\n",
    "            pickle.dump(eval(lymph_group+emph+'_lymph_300'),f)\n",
    "\n",
    "    print(\"\\n\")"
   ]
  },
  {
   "cell_type": "code",
   "execution_count": 84,
   "id": "5c240a76",
   "metadata": {},
   "outputs": [
    {
     "name": "stdout",
     "output_type": "stream",
     "text": [
      "No emphysema TP: 69\n",
      "Moderate Emphysema TP: 24\n",
      "Confluent Emphysema TP: 2\n",
      "Advanced Emphysema TP: 14\n",
      "No emphysema number of participants: 44\n",
      "Moderate emphysema number of participants: 9\n",
      "Confluent emphysema number of participants: 2\n",
      "Advanced emphysema number of participants: 4\n"
     ]
    }
   ],
   "source": [
    "#Print total num of values of TPs in each group\n",
    "print(\"No emphysema TP:\",sum([len(x) for x in noemph_dict.values()]))\n",
    "print(\"Moderate Emphysema TP:\",sum([len(x) for x in mod_dict.values()]))\n",
    "print(\"Confluent Emphysema TP:\",sum([len(x) for x in conf_dict.values()]))\n",
    "print(\"Advanced Emphysema TP:\",sum([len(x) for x in adv_dict.values()]))\n",
    "\n",
    "print(\"No emphysema number of participants:\",(len(noemph_dict.keys())))\n",
    "print(\"Moderate emphysema number of participants:\",(len(mod_dict.keys())))\n",
    "print(\"Confluent emphysema number of participants:\",(len(conf_dict.keys())))\n",
    "print(\"Advanced emphysema number of participants:\",(len(adv_dict.keys())))"
   ]
  },
  {
   "attachments": {},
   "cell_type": "markdown",
   "id": "799c35bc",
   "metadata": {},
   "source": [
    "#### Get ids of FN to automatically perform analysis - Similar as above for TPs"
   ]
  },
  {
   "cell_type": "code",
   "execution_count": 85,
   "id": "2aff0f57",
   "metadata": {},
   "outputs": [],
   "source": [
    "#Select rows where we have at least one FN in any of the 0-100 or 100-300 volume subgroup\n",
    "mod_fn=mod[mod['100-300fn'].notnull() | mod['0-100fn'].notnull() ]\n",
    "conf_fn=conf[conf['100-300fn'].notnull() | conf['0-100fn'].notnull() ] \n",
    "adv_fn=adv[adv['100-300fn'].notnull() | adv['0-100fn'].notnull() ] \n",
    "noemph_fn=noemph[(noemph['100-300fn'].notnull() | noemph['0-100fn'].notnull() ) & noemph['participant_id'].notnull()] "
   ]
  },
  {
   "cell_type": "code",
   "execution_count": 32,
   "id": "1bf01bff",
   "metadata": {},
   "outputs": [],
   "source": [
    "# noemph_fn"
   ]
  },
  {
   "cell_type": "code",
   "execution_count": 87,
   "id": "c102764b",
   "metadata": {},
   "outputs": [],
   "source": [
    "#Get lists of participants with at least one FN\n",
    "mod_pats_fn=[int(str(x)[:6]) for x in mod_fn['participant_id'].values] #str(x)[:6] to keep only 6 digits without comments\n",
    "conf_pats_fn=[int(str(x)[:6]) for x in conf_fn['participant_id'].values]\n",
    "adv_pats_fn=[int(str(x)[:6]) for x in adv_fn['participant_id'].values]\n",
    "noemph_pats_fn=[int(str(x)[:6]) for x in noemph_fn['participant_id'].values]"
   ]
  },
  {
   "cell_type": "code",
   "execution_count": 88,
   "id": "e72a7f08",
   "metadata": {},
   "outputs": [],
   "source": [
    "#Get only rows from REDCap dataframe with participants that have at least on FN\n",
    "mod_df_fn=TP_export[TP_export['participant_id'].isin(mod_pats_fn)]\n",
    "conf_df_fn=TP_export[TP_export['participant_id'].isin(conf_pats_fn)]\n",
    "adv_df_fn=TP_export[TP_export['participant_id'].isin(adv_pats_fn)]\n",
    "noemph_df_fn=TP_export[TP_export['participant_id'].isin(noemph_pats_fn)]"
   ]
  },
  {
   "cell_type": "code",
   "execution_count": 33,
   "id": "c3020d25",
   "metadata": {},
   "outputs": [],
   "source": [
    "# noemph_df_fn"
   ]
  },
  {
   "cell_type": "code",
   "execution_count": 90,
   "id": "b2b42ceb",
   "metadata": {},
   "outputs": [],
   "source": [
    "#Initialize empty dicts in the form {'pat_id1':[],'pat_id2':[],...} mod_df_fn['participant_id']\n",
    "\n",
    "noemph_dict_fn=dict.fromkeys([int(str(numeric_string)[:6]) for numeric_string in noemph_df_fn['participant_id'].values], [])\n",
    "mod_dict_fn=dict.fromkeys([int(str(numeric_string)[:6]) for numeric_string in mod_df_fn['participant_id'].values], [])\n",
    "conf_dict_fn=dict.fromkeys([int(str(numeric_string)[:6]) for numeric_string in conf_df_fn['participant_id'].values], [])\n",
    "adv_dict_fn=dict.fromkeys([int(str(numeric_string)[:6]) for numeric_string in adv_fn['participant_id'].values], [])\n",
    "\n",
    "#Initialize same dict for storing volumes of each FN nodule\n",
    "noemph_dict_fn_vol=noemph_dict_fn.copy()\n",
    "mod_dict_fn_vol=mod_dict_fn.copy()\n",
    "conf_dict_fn_vol=conf_dict_fn.copy()\n",
    "adv_dict_fn_vol=adv_dict_fn.copy()"
   ]
  },
  {
   "cell_type": "code",
   "execution_count": 91,
   "id": "f8e900dc",
   "metadata": {},
   "outputs": [],
   "source": [
    "for deg in emph_deg: #Loop over emphysema/non-emphysema degrees (in the form 'adv_tp')\n",
    "\n",
    "    for ind,pat in enumerate(eval(deg[:-3]+\"_df_fn['participant_id']\")): #Loop over all indices and participants of a given df\n",
    "        if pat in eval(deg[:-3]+\"_dict.keys()\"): #If the participant is also in dict with some nodule ids being TP\n",
    "            \n",
    "            for nod_id,val in enumerate(eval(deg[:-3]+\"_df_fn[cols_with_nod_ids].iloc[ind].values\")): #Loop over all ids\n",
    "\n",
    "                if nod_id!=0: #Avoid first column in which we might have both 'n1' and 'n10'\n",
    "                    vol_cols=[col for col in TP_export.columns if 'volume_all_n'+str(nod_id+1) in col]\n",
    "                else:\n",
    "                    vol_cols=[col for col in TP_export.columns if 'volume_all_n'+str(nod_id+1) in col and '_n10' not in col]        \n",
    "\n",
    "                #If a specific nodule id is not in the dict with TP add it to dict with FN. Same for its volume\n",
    "                #First condition will result in error in pat not in that dict - That's why we need the 'else' condition below\n",
    "                if val not in eval(deg[:-3]+\"_dict[pat]\") and np.isnan(val)==False: \n",
    "                    exec(deg[:-3]+\"_dict_fn[pat]=\"+deg[:-3]+\"_dict_fn[pat]+[val]\")\n",
    "                    exec(deg[:-3]+\"_dict_fn_vol[pat]=\"+deg[:-3]+\"_dict_fn_vol[pat]+[\"+deg[:-3]+\"_df_fn[vol_cols].iloc[ind].values[0]]\")\n",
    "                        \n",
    "        else: #If this is not in dictionary with at least one TP then all are FNs\n",
    "\n",
    "            for nod_id,val in enumerate(eval(deg[:-3]+\"_df_fn[cols_with_nod_ids].iloc[ind].values\")):\n",
    "\n",
    "                if nod_id!=0: #Avoid first column in which we might have both 'n1' and 'n10'\n",
    "                    vol_cols=[col for col in TP_export.columns if 'volume_all_n'+str(nod_id+1) in col]\n",
    "                else:\n",
    "                    vol_cols=[col for col in TP_export.columns if 'volume_all_n'+str(nod_id+1) in col and '_n10' not in col]        \n",
    "\n",
    "                if np.isnan(val)==False:\n",
    "                    exec(deg[:-3]+\"_dict_fn[pat]=\"+deg[:-3]+\"_dict_fn[pat]+[val]\")\n",
    "                    exec(deg[:-3]+\"_dict_fn_vol[pat]=\"+deg[:-3]+\"_dict_fn_vol[pat]+[\"+deg[:-3]+\"_df_fn[vol_cols].iloc[ind].values[0]]\")"
   ]
  },
  {
   "cell_type": "code",
   "execution_count": 92,
   "id": "bc72a527",
   "metadata": {},
   "outputs": [],
   "source": [
    "#Manually modify FN ids that are incorrect in the above lists\n",
    "mod_dict_fn[101191]=[10] \n",
    "mod_dict_fn_vol[101191]=[125]\n",
    "\n",
    "# noemph_dict['591162']=[1,2,3,6,19,22,16] #These should be removed!\n",
    "noemph_dict_fn[591162]=[11]\n",
    "noemph_dict_fn_vol[591162]=[143]\n",
    "\n",
    "# noemph_dict['845334']=[3,1,7,4,5] #These should be removed!\n",
    "noemph_dict_fn[845334]=[9]\n",
    "noemph_dict_fn_vol[845334]=[69]"
   ]
  },
  {
   "cell_type": "code",
   "execution_count": 34,
   "id": "8382b6c8",
   "metadata": {},
   "outputs": [],
   "source": [
    "# noemph_dict_fn"
   ]
  },
  {
   "cell_type": "code",
   "execution_count": 35,
   "id": "8a98b45c",
   "metadata": {},
   "outputs": [],
   "source": [
    "# mod_dict_fn_vol"
   ]
  },
  {
   "cell_type": "code",
   "execution_count": 95,
   "id": "c12b0b0b",
   "metadata": {},
   "outputs": [],
   "source": [
    "false_ids_noemph_dict={key:[] for key,val in noemph_dict_fn.items()} \n",
    "false_ids_mod_dict={key:[] for key,val in mod_dict_fn.items()}\n",
    "false_ids_conf_dict={key:[] for key,val in conf_dict_fn.items()}\n",
    "false_ids_adv_dict={key:[] for key,val in adv_dict_fn.items()}\n",
    "\n",
    "#Apply function to get nodule id in REDCap from nodule value stored in it\n",
    "false_ids_noemph_dict=convert_to_true_ids(noemph_dict_fn,noemph_df_fn,cols_with_nod_ids,false_ids_noemph_dict)\n",
    "false_ids_mod_dict=convert_to_true_ids(mod_dict_fn,mod_df_fn,cols_with_nod_ids,false_ids_mod_dict)\n",
    "false_ids_conf_dict=convert_to_true_ids(conf_dict_fn,conf_df_fn,cols_with_nod_ids,false_ids_conf_dict)\n",
    "false_ids_adv_dict=convert_to_true_ids(adv_dict_fn,adv_df_fn,cols_with_nod_ids,false_ids_adv_dict)"
   ]
  },
  {
   "cell_type": "code",
   "execution_count": 36,
   "id": "188b96e7",
   "metadata": {},
   "outputs": [],
   "source": [
    "# mod_dict_fn"
   ]
  },
  {
   "cell_type": "code",
   "execution_count": 37,
   "id": "42fa6074",
   "metadata": {},
   "outputs": [],
   "source": [
    "# false_ids_mod_dict"
   ]
  },
  {
   "cell_type": "code",
   "execution_count": 98,
   "id": "6a82754b",
   "metadata": {},
   "outputs": [
    {
     "name": "stdout",
     "output_type": "stream",
     "text": [
      "No Emphysema 62\n",
      "Moderate Emphysema 21\n",
      "Confluent Emphysema 4\n",
      "Advanced 10\n",
      "No emphysema number of participants: 44\n",
      "Moderate emphysema number of participants: 9\n",
      "Confluent emphysema number of participants: 2\n",
      "Advanced emphysema number of participants: 4\n"
     ]
    }
   ],
   "source": [
    "#Print total num of values of FNs in each group\n",
    "print(\"No Emphysema\",sum([len(x) for x in noemph_dict_fn.values()]))\n",
    "print(\"Moderate Emphysema\",sum([len(x) for x in mod_dict_fn.values()]))\n",
    "print(\"Confluent Emphysema\",sum([len(x) for x in conf_dict_fn.values()]))\n",
    "print(\"Advanced\",sum([len(x) for x in adv_dict_fn.values()]))\n",
    "\n",
    "print(\"No emphysema number of participants:\",(len(noemph_dict.keys())))\n",
    "print(\"Moderate emphysema number of participants:\",(len(mod_dict.keys())))\n",
    "print(\"Confluent emphysema number of participants:\",(len(conf_dict.keys())))\n",
    "print(\"Advanced emphysema number of participants:\",(len(adv_dict.keys())))"
   ]
  },
  {
   "attachments": {},
   "cell_type": "markdown",
   "id": "36c3c3f2",
   "metadata": {},
   "source": [
    "#### Get IDs and slices of FN per type - Extract type of findings for those from REDCap"
   ]
  },
  {
   "cell_type": "code",
   "execution_count": 38,
   "id": "1606d04f",
   "metadata": {},
   "outputs": [],
   "source": [
    "# false_ids_noemph_dict"
   ]
  },
  {
   "cell_type": "code",
   "execution_count": 39,
   "id": "5a5e0e1a",
   "metadata": {},
   "outputs": [],
   "source": [
    "# atypical_triangular_noemph"
   ]
  },
  {
   "cell_type": "code",
   "execution_count": 40,
   "id": "d4ff912b",
   "metadata": {},
   "outputs": [],
   "source": [
    "TP_info_redcap(tp_or_fn='fn')"
   ]
  },
  {
   "cell_type": "code",
   "execution_count": 41,
   "id": "308ce595",
   "metadata": {},
   "outputs": [],
   "source": [
    "# atypical_triangular_noemph"
   ]
  },
  {
   "cell_type": "code",
   "execution_count": 42,
   "id": "20756530",
   "metadata": {},
   "outputs": [],
   "source": [
    "# other_all"
   ]
  },
  {
   "cell_type": "code",
   "execution_count": 43,
   "id": "fb66299e",
   "metadata": {},
   "outputs": [],
   "source": [
    "errors_check(tp_or_fn='fn')"
   ]
  },
  {
   "cell_type": "code",
   "execution_count": 45,
   "id": "4bcc05a2",
   "metadata": {},
   "outputs": [],
   "source": [
    "# sub_ground_noemph"
   ]
  },
  {
   "cell_type": "code",
   "execution_count": 106,
   "id": "26f72b4a",
   "metadata": {},
   "outputs": [
    {
     "name": "stdout",
     "output_type": "stream",
     "text": [
      "Checking findings of _emph degree....\n",
      "sub_ground_emph 1\n",
      "pleural_emph 2\n",
      "calcified_emph 0.0\n",
      "other_all_emph 16\n",
      "atypical_triangular_emph 1\n",
      "per_fisu_emph 9\n",
      "peri_bronch_emph 6\n",
      "Total _emph 35.0\n",
      "\n",
      "\n",
      "Checking findings of _noemph degree....\n",
      "sub_ground_noemph 8\n",
      "pleural_noemph 1\n",
      "calcified_noemph 1\n",
      "other_all_noemph 30\n",
      "atypical_triangular_noemph 2\n",
      "per_fisu_noemph 7\n",
      "peri_bronch_noemph 13\n",
      "Total _noemph 62\n",
      "\n",
      "\n"
     ]
    }
   ],
   "source": [
    "#Count total num of FN in those lists\n",
    "for emph in ['_emph','_noemph']: #Loop over emphysema/non-emphysema degrees\n",
    "\n",
    "    print(\"Checking findings of\",emph,'degree....')\n",
    "    \n",
    "    exec('total'+emph+'=0') #Count\n",
    "\n",
    "    for nod_group in nod_groups_only: #Loop over nodule groups\n",
    "        total_vals=np.sum([len(x) for x in eval(nod_group+emph+'.values()')])\n",
    "        exec('total'+emph+'+=total_vals') #Add to total\n",
    "        print(nod_group+emph,total_vals)\n",
    "    for lymph_group in lymph_groups:\n",
    "        total_vals=np.sum([len(x) for x in eval(lymph_group+emph+'.values()')])\n",
    "        print(lymph_group+emph,total_vals) #Add to total\n",
    "        exec('total'+emph+'+=total_vals')\n",
    "\n",
    "    print(\"Total\",emph,eval('total'+emph))\n",
    "    print(\"\\n\")"
   ]
  },
  {
   "cell_type": "markdown",
   "id": "ea6226d4",
   "metadata": {},
   "source": [
    "Above are those detected only by reader - could be nodules, lymphs or non-nodules based on consensus - should be manually checked below"
   ]
  },
  {
   "attachments": {},
   "cell_type": "markdown",
   "id": "10a49f8a",
   "metadata": {},
   "source": [
    "#### Compare initial reading vs consensus for FN"
   ]
  },
  {
   "cell_type": "code",
   "execution_count": 107,
   "id": "b7e475d2",
   "metadata": {},
   "outputs": [
    {
     "name": "stdout",
     "output_type": "stream",
     "text": [
      "Checking findings of noemph degree....\n",
      "Checking findings of mod degree....\n",
      "Checking findings of conf degree....\n",
      "Checking findings of adv degree....\n"
     ]
    }
   ],
   "source": [
    "#Get all FNs in a list\n",
    "for emph in ['noemph','mod','conf','adv']: #Loop over emphysema/non-emphysema degrees\n",
    "\n",
    "    print(\"Checking findings of\",emph,'degree....')\n",
    "    \n",
    "    exec(emph+\"_FN_all={}\") \n",
    "    exec(emph+\"_FN_all_vols={}\") \n",
    "\n",
    "    for pat in eval(\"false_ids_\"+emph+\"_dict\"+'.keys()'):\n",
    "\n",
    "        exec(emph+\"_FN_all\"+\"[\"+str(pat)+\"]={}\") #Initialize empty dict for each participant\n",
    "        exec(emph+\"_FN_all_vols\"+\"[\"+str(pat)+\"]={}\") #Initialize empty dict for each participant\n",
    "\n",
    "        for fn_id in eval(\"false_ids_\"+emph+\"_dict\"+'['+str(pat)+']'):\n",
    "\n",
    "            slice_val=TP_export[TP_export['participant_id']==pat]['slice_number_n'+str(fn_id)].values[0]\n",
    "            exec(emph+\"_FN_all[\"+str(pat)+\"][fn_id]=slice_val\") #Add slice number of each FN nodule\n",
    "\n",
    "            vol_val=TP_export[TP_export['participant_id']==pat]['volume_solid_n'+str(fn_id)].values[0]\n",
    "            if np.isnan(vol_val):\n",
    "                vol_val=TP_export[TP_export['participant_id']==pat]['volume_subsolid_n'+str(fn_id)].values[0]\n",
    "                # if np.isnan(vol_val):\n",
    "                #     print(\"NaN volume for\",pat,fn_id)\n",
    "\n",
    "            exec(emph+\"_FN_all_vols[\"+str(pat)+\"][fn_id]=vol_val\") #Add slice number of each FN nodule"
   ]
  },
  {
   "cell_type": "code",
   "execution_count": 46,
   "id": "4e450d57",
   "metadata": {},
   "outputs": [],
   "source": [
    "# mod_FN_all"
   ]
  },
  {
   "cell_type": "code",
   "execution_count": 47,
   "id": "9794f6f2",
   "metadata": {},
   "outputs": [],
   "source": [
    "# mod_FN_all_vols"
   ]
  },
  {
   "attachments": {},
   "cell_type": "markdown",
   "id": "451f1126",
   "metadata": {},
   "source": [
    "Extract information from consensus review - For now should compare manually the two dictionaries below"
   ]
  },
  {
   "cell_type": "code",
   "execution_count": 110,
   "id": "6251c12b",
   "metadata": {},
   "outputs": [],
   "source": [
    "#Non-Emphysema\n",
    "\n",
    "non_emph_consensus=copy.deepcopy(noemph_FN_all) #Create a copy of the above dictionary\n",
    "\n",
    "for key,val in non_emph_consensus.items(): \n",
    "    for id,slice_num in val.items():\n",
    "        non_emph_consensus[key][id]={slice_num:{}} #Add slice number as key for each id\n",
    "\n",
    "\n",
    "for folder in os.listdir(path_noemph): #Loop over folders in which we have txt files with consensus review\n",
    "    if os.path.isdir(path_noemph+'/'+folder):\n",
    "\n",
    "        folder_name=folder[:6]\n",
    "\n",
    "        for file in os.listdir(path_noemph+'/'+folder):\n",
    "            if 'fn' in file and 'txt' in file:\n",
    "                with open (path_noemph+'/'+folder+'/'+file,'r') as f:\n",
    "                    lines=f.readlines() #Read lines of txt file\n",
    "\n",
    "\n",
    "                pat_fn=noemph_FN_all[int(folder_name)] #Get dictionary with slice numbers of FNs for that participant\n",
    "\n",
    "                for id,slice_num in pat_fn.items(): #Loop over slice numbers of FNs for that participant\n",
    "                    if str(int(slice_num)) in file: #If slice number of FN is in file name\n",
    "\n",
    "                        for pat,vals in noemph_FN_all.items(): #Loop over all participants with FNs\n",
    "                            if pat==int(folder_name): #If participant is the same as the one in file name\n",
    "                                for id_num in vals.keys(): #Loop over all ids of that participant\n",
    "                                    \n",
    "                                    if int(noemph_FN_all[int(folder_name)][id_num])==int(slice_num): \n",
    "                                        non_emph_consensus[int(folder_name)][id_num][slice_num]=lines \n",
    "                                        #Add lines of txt file as value for that slice number"
   ]
  },
  {
   "cell_type": "code",
   "execution_count": 48,
   "id": "fa7adbe9",
   "metadata": {},
   "outputs": [],
   "source": [
    "# non_emph_consensus"
   ]
  },
  {
   "cell_type": "code",
   "execution_count": 49,
   "id": "08e19145",
   "metadata": {},
   "outputs": [],
   "source": [
    "# noemph_FN_all"
   ]
  },
  {
   "cell_type": "code",
   "execution_count": 50,
   "id": "81055811",
   "metadata": {},
   "outputs": [],
   "source": [
    "# noemph_FN_all_vols"
   ]
  },
  {
   "cell_type": "code",
   "execution_count": 114,
   "id": "16b829e8",
   "metadata": {},
   "outputs": [],
   "source": [
    "#Emphysema - Same as above\n",
    "\n",
    "for emph in ['mod','conf','adv']: #Loop over emphysema degrees\n",
    "    exec(emph+\"_consensus=copy.deepcopy(eval(emph+'_FN_all'))\")\n",
    "\n",
    "    for key,val in eval(emph+'_consensus.items()'):\n",
    "        for id,slice_num in val.items():\n",
    "            exec(emph+'_consensus[key][id]={slice_num:{}}')\n",
    "\n",
    "    for degree in os.listdir(path_emph):\n",
    "        if emph in degree: #if we are at the same degree as above loop\n",
    "\n",
    "            for folder in os.listdir(path_emph+'/'+degree):\n",
    "\n",
    "                if os.path.isdir(path_emph+'/'+degree+'/'+folder):\n",
    "\n",
    "                    folder_name=folder[:6]\n",
    "\n",
    "                    for file in os.listdir(path_emph+'/'+degree+'/'+folder):\n",
    "                        if 'fn' in file and 'txt' in file:\n",
    "                            with open (path_emph+'/'+degree+'/'+folder+'/'+file,'r') as f:\n",
    "                                lines=f.readlines()\n",
    "\n",
    "                            pat_fn=eval(emph+'_FN_all[int(folder_name)]')\n",
    "\n",
    "                            for id,slice_num in pat_fn.items():\n",
    "                                if str(int(slice_num)) in file:\n",
    "\n",
    "                                    for pat,vals in eval(emph+'_FN_all.items()'):\n",
    "                                        if pat==int(folder_name):\n",
    "                                            for id_num in vals.keys():\n",
    "                                                \n",
    "                                                if int(eval(emph+'_FN_all[int(folder_name)][id_num]==int(slice_num)')):\n",
    "                                                    exec(emph+\"_consensus[int(folder_name)][id_num][slice_num]=lines\")"
   ]
  },
  {
   "cell_type": "code",
   "execution_count": 51,
   "id": "9c05e6eb",
   "metadata": {},
   "outputs": [],
   "source": [
    "# mod_consensus"
   ]
  },
  {
   "cell_type": "code",
   "execution_count": 52,
   "id": "0637161f",
   "metadata": {},
   "outputs": [],
   "source": [
    "# mod_FN_all"
   ]
  },
  {
   "cell_type": "code",
   "execution_count": 53,
   "id": "4bd5640b",
   "metadata": {},
   "outputs": [],
   "source": [
    "# mod_FN_all_vols"
   ]
  },
  {
   "cell_type": "code",
   "execution_count": 118,
   "id": "759bc448",
   "metadata": {},
   "outputs": [],
   "source": [
    "#Function to print in color\n",
    "def prRed(skk): print(\"\\033[91m {}\\033[00m\".format(skk))\n",
    "#https://www.geeksforgeeks.org/print-colors-python-terminal/\n",
    "\n",
    "#Possible colors are:\n",
    "# red = '\\033[91m'\n",
    "# green = '\\033[92m'\n",
    "# yellow = '\\033[93m'\n",
    "# blue = '\\033[94m'\n",
    "# pink = '\\033[95m'\n",
    "# teal = '\\033[96m'\n",
    "# grey = '\\033[97m'"
   ]
  },
  {
   "cell_type": "code",
   "execution_count": 55,
   "id": "96e345e4",
   "metadata": {},
   "outputs": [],
   "source": [
    "#Emphysema/non-emphysema final comparison of consensus vs REDCap\n",
    "for emph in ['mod','conf','adv','non_emph']: #Loop over emphysema degrees\n",
    "\n",
    "    show_deg=\"Degree is \"+emph+'.....'\n",
    "    prRed(show_deg) #Print in red\n",
    "    all_count=0\n",
    "\n",
    "    for pat in eval(emph+'_consensus'): #Loop over participants with FNs in consensus review\n",
    "        for id in eval(emph+'_consensus[pat]'): #Loop over nodule ids of that participant\n",
    "            \n",
    "            for slice_num in eval(emph+'_consensus['+str(pat)+']['+str(id)+']'): #Loop over slice numbers of that nodule\n",
    "\n",
    "                #Count total num of FN in those lists\n",
    "                for type_emph in ['_emph','_noemph']: #Loop over emphysema/non-emphysema degrees\n",
    "                    for nod_group in nod_groups_only: #this is based on redcap attibutes and not on consensus review\n",
    "                        try: #If slice number is in that dictionary\n",
    "                            if slice_num in eval(nod_group+type_emph+'[pat].values()'): \n",
    "                                for check_id,check_val in eval(nod_group+type_emph+'[pat].items()'): #Loop over all ids of that participant\n",
    "                                    if slice_num==check_val: #If slice number is the same as the one in dictionary\n",
    "\n",
    "                                        if emph!='non_emph':\n",
    "                                            vol_val=eval(emph+'_FN_all_vols[pat][id]')\n",
    "                                        else:\n",
    "                                            vol_val=eval('noemph'+'_FN_all_vols[pat][id]')\n",
    "\n",
    "                                        print(\"Participant\",pat,'with emph:',emph,\"nodule id:\",id,\"slice number:\",slice_num,\"volume:\",vol_val)\n",
    "                                        print(\"REDCap:\",nod_group)\n",
    "                                        print(\"Consensus:\",(eval(emph+'_consensus['+str(pat)+']['+str(id)+']['+str(slice_num)+']')))\n",
    "                                        all_count+=1\n",
    "                                        print(\"\\n\")\n",
    "                        except:\n",
    "                            pass\n",
    "\n",
    "                    for lymph_group in lymph_groups: #this is based on redcap attibutes and not on consensus review\n",
    "                        try:\n",
    "                            if slice_num in eval(lymph_group+type_emph+'[pat].values()'):\n",
    "                                for check_id,check_val in eval(lymph_group+type_emph+'[pat].items()'):\n",
    "                                    if slice_num==check_val:\n",
    "\n",
    "                                        if emph!='non_emph':\n",
    "                                            vol_val=eval(emph+'_FN_all_vols[pat][id]')\n",
    "                                        else:\n",
    "                                            vol_val=eval('noemph'+'_FN_all_vols[pat][id]')\n",
    "                                        print(\"Participant\",pat,'with emph:',emph,\"nodule id:\",id,\"slice number:\",slice_num,\"volume:\",vol_val)\n",
    "                                        print(\"REDCap:\",lymph_group)\n",
    "                                        print(\"Consensus:\",(eval(emph+'_consensus['+str(pat)+']['+str(id)+']['+str(slice_num)+']')))\n",
    "                                        all_count+=1\n",
    "                                        print(\"\\n\")\n",
    "                        except:\n",
    "                            pass\n",
    "\n",
    "    print(\"Total findings:\",all_count)"
   ]
  },
  {
   "attachments": {},
   "cell_type": "markdown",
   "id": "ea1a5213",
   "metadata": {},
   "source": [
    "#### Get actual slice with those ids - To be used to match nodule slices from review sessions\n",
    "\n",
    "#### Cells below only load dictionaries created from first part of file 'reviewing_info_extract.ipynb'. This is why it is suggested to run that file instead of this, since there, this file is called and it works properly."
   ]
  },
  {
   "cell_type": "code",
   "execution_count": 120,
   "id": "423b5d2c",
   "metadata": {},
   "outputs": [],
   "source": [
    "slice_cols=[col for col in TP_export.columns if 'slice_number_n' in col] #Get columns with slice numbers\n",
    "vol_cols=[col for col in TP_export.columns if 'volume_all_n' in col] #Get columns with volumes"
   ]
  },
  {
   "cell_type": "code",
   "execution_count": 121,
   "id": "a271ebea",
   "metadata": {},
   "outputs": [],
   "source": [
    "#Load dictionaries that contain all nodules and lymph nodes\n",
    "with open('dict_FN_wrong_emph.pickle', 'rb') as f:\n",
    "    dict_FN_wrong_emph = pickle.load(f)\n",
    "\n",
    "with open('dict_FN_correct_emph.pickle', 'rb') as f:\n",
    "    dict_FN_correct_emph = pickle.load(f)\n",
    "\n",
    "with open('dict_FN_wrong_noemph.pickle', 'rb') as f:\n",
    "    dict_FN_wrong_noemph = pickle.load(f)\n",
    "    \n",
    "with open('dict_FN_correct_noemph.pickle', 'rb') as f:\n",
    "    dict_FN_correct_noemph = pickle.load(f)\n",
    "    \n",
    "#Similarly for dictionaries having only nodules or only lymph nodes\n",
    "with open('lymph_FN_correct_emph.pickle','rb') as f:\n",
    "    lymph_FN_correct_emph=pickle.load(f)    \n",
    "\n",
    "with open('lymph_FN_correct_noemph.pickle','rb') as f:\n",
    "    lymph_FN_correct_noemph=pickle.load(f) \n",
    "    \n",
    "with open('nod_FN_correct_emph.pickle','rb') as f:\n",
    "    nod_FN_correct_emph=pickle.load(f)    \n",
    "\n",
    "with open('nod_FN_correct_noemph.pickle','rb') as f:\n",
    "    nod_FN_correct_noemph=pickle.load(f) "
   ]
  },
  {
   "cell_type": "code",
   "execution_count": 56,
   "id": "d30568c1",
   "metadata": {},
   "outputs": [],
   "source": [
    "#Get copies of the dictionaries above to match slices with their indices\n",
    "\n",
    "#Get list of strings with the names of the above loaded dictionaries\n",
    "all_FNs=['dict_FN_wrong_emph','dict_FN_correct_emph','dict_FN_wrong_noemph','dict_FN_correct_noemph',\n",
    "         'lymph_FN_correct_emph','lymph_FN_correct_noemph','nod_FN_correct_emph','nod_FN_correct_noemph']\n",
    "\n",
    "count_del=0 #count the number of elements to be deleted\n",
    "\n",
    "for FN_dict in all_FNs: #Loop over above dictionaries with FNs\n",
    "\n",
    "    #Get copies of dictionaries with ids, and volumes for those\n",
    "    exec(FN_dict+'_ids=copy.deepcopy('+FN_dict+')')\n",
    "    exec(FN_dict+'_ids={item: [] for item in '+FN_dict+'_ids}')\n",
    "    exec(FN_dict+'_vols=copy.deepcopy('+FN_dict+'_ids)') #Get empty lists to fill in volumes\n",
    "\n",
    "    exec(FN_dict+'_errors=[]') #Empty list to keep track of errors\n",
    "    \n",
    "    for key,slices in eval(FN_dict+'.items()'): #Loop over elements of above dictionaries\n",
    "\n",
    "        df_values=list(TP_export[slice_cols][TP_export['participant_id']==int(key)].values[0]) #Get values from id 1-10\n",
    "        df_volumes=list(TP_export[vol_cols][TP_export['participant_id']==int(key)].values[0]) #Get their volumes\n",
    "\n",
    "        for slice_num in slices: #Loop over the slices from the reviewing session\n",
    "            if df_values.count(slice_num)==1: #If this slice exists exactly one time\n",
    "                 for ind,val in enumerate(df_values): #Loop over the slice ids\n",
    "                        if val==slice_num: #When we fing this slice keep its index\n",
    "                            exec(FN_dict+'_ids[key].append(ind+1)') #Add it to dictionary\n",
    "                            exec(FN_dict+'_vols[key].append(df_volumes[ind])') #Same for volume\n",
    "\n",
    "            else: #These should be checked manually\n",
    "                print(\"Dictionary is\",FN_dict)\n",
    "                print(\"Slices are\",slices)\n",
    "                print(\"Num of occurences is\",df_values.count(slice_num))\n",
    "                print(\"In participant\",key,\"the slice\",slice_num,\"exists more than once - Should be checked manually\")\n",
    "                print(\"Values of the slices for that participant are:\",df_values)\n",
    "\n",
    "                exec(FN_dict+'_errors.append(key)')\n",
    "\n",
    "    #Delete participants for which we have the same value more than once - probably wrong information added there\n",
    "    for par in eval(FN_dict+'_errors'):\n",
    "        \n",
    "        if 'dict' in FN_dict: \n",
    "            try: #Since it might not exist\n",
    "                count_del=count_del+len(eval(FN_dict+'_ids[par]'))\n",
    "            except:\n",
    "                print('empty participant:',par)\n",
    "            \n",
    "\n",
    "        try: #In case it does not exist\n",
    "            print(\"Going to delete dictionary\", FN_dict,\"with ids\",eval(FN_dict+'_ids[par]'),'of participant',par)\n",
    "\n",
    "            exec(FN_dict+'_ids.pop(par)')\n",
    "            exec(FN_dict+'_vols.pop(par)')\n",
    "        except:\n",
    "            print(\"Deletion Failed for\",par)\n",
    "        print('\\n')\n",
    "\n",
    "print(\"Total number of elements deleted from main dictionary is\",count_del)"
   ]
  },
  {
   "attachments": {},
   "cell_type": "markdown",
   "id": "216ef930",
   "metadata": {},
   "source": [
    "The above should be added manually, if needed"
   ]
  },
  {
   "cell_type": "code",
   "execution_count": 123,
   "id": "ea583b9c",
   "metadata": {},
   "outputs": [],
   "source": [
    "#Add manually slices, ids, and volumes to corresponding dictionary for cases found above \n",
    "dict_FN_correct_emph['670208']=[244,361] #wrong if radiologists said 'not nodule' (not lymph node as well)\n",
    "dict_FN_correct_emph_ids['670208']=[2,9]\n",
    "dict_FN_correct_emph_vols['670208']=[52,119]\n",
    "\n",
    "#Same for lymph nodes dictionaries - These changed from 'atypical' lymph nodes to th nodule group\n",
    "# lymph_FN_correct_emph['670208']=[244,361] #wrong if radiologists said 'not nodule'\n",
    "# lymph_FN_correct_emph_ids['670208']=[2,9]\n",
    "# lymph_FN_correct_emph_vols['670208']=[52,119]\n",
    "\n",
    "nod_FN_correct_emph['670208']=[244,361] #wrong if radiologists said 'not nodule'\n",
    "nod_FN_correct_emph_ids['670208']=[2,9]\n",
    "nod_FN_correct_emph_vols['670208']=[52,119]"
   ]
  },
  {
   "cell_type": "code",
   "execution_count": 124,
   "id": "3845a7b6",
   "metadata": {},
   "outputs": [],
   "source": [
    "#Save all dictionaries to be used in the other file to match slices with ids\n",
    "with open('dict_FN_wrong_emph_ids.pickle','wb') as f:\n",
    "    pickle.dump(dict_FN_wrong_emph_ids,f)\n",
    "\n",
    "with open('dict_FN_correct_emph_ids.pickle','wb') as f:\n",
    "    pickle.dump(dict_FN_correct_emph_ids,f)    \n",
    "\n",
    "with open('dict_FN_wrong_noemph_ids.pickle','wb') as f:\n",
    "    pickle.dump(dict_FN_wrong_noemph_ids,f)\n",
    "\n",
    "with open('dict_FN_correct_noemph_ids.pickle','wb') as f:\n",
    "    pickle.dump(dict_FN_correct_noemph_ids,f) \n",
    "    \n",
    "#Same for volumes of the above files\n",
    "with open('dict_FN_wrong_emph_vols.pickle','wb') as f:\n",
    "    pickle.dump(dict_FN_wrong_emph_vols,f)\n",
    "\n",
    "with open('dict_FN_correct_emph_vols.pickle','wb') as f:\n",
    "    pickle.dump(dict_FN_correct_emph_vols,f)    \n",
    "\n",
    "with open('dict_FN_wrong_noemph_vols.pickle','wb') as f:\n",
    "    pickle.dump(dict_FN_wrong_noemph_vols,f)\n",
    "\n",
    "with open('dict_FN_correct_noemph_vols.pickle','wb') as f:\n",
    "    pickle.dump(dict_FN_correct_noemph_vols,f) \n",
    "    \n",
    "#Same as above for lymph node ids and volumes\n",
    "with open('lymph_FN_correct_emph_ids.pickle','wb') as f:\n",
    "    pickle.dump(lymph_FN_correct_emph_ids,f)  \n",
    "\n",
    "with open('lymph_FN_correct_noemph_ids.pickle','wb') as f:\n",
    "    pickle.dump(lymph_FN_correct_noemph_ids,f)\n",
    "    \n",
    "with open('lymph_FN_correct_emph_vols.pickle','wb') as f:\n",
    "    pickle.dump(lymph_FN_correct_emph_vols,f) \n",
    "\n",
    "with open('lymph_FN_correct_noemph_vols.pickle','wb') as f:\n",
    "    pickle.dump(lymph_FN_correct_noemph_vols,f)\n",
    "    \n",
    "#Same for nodule dictionaries\n",
    "with open('nod_FN_correct_emph_ids.pickle','wb') as f:\n",
    "    pickle.dump(nod_FN_correct_emph_ids,f)  \n",
    "\n",
    "with open('nod_FN_correct_noemph_ids.pickle','wb') as f:\n",
    "    pickle.dump(nod_FN_correct_noemph_ids,f)\n",
    "\n",
    "with open('nod_FN_correct_emph_vols.pickle','wb') as f:\n",
    "    pickle.dump(nod_FN_correct_emph_vols,f) \n",
    "\n",
    "with open('nod_FN_correct_noemph_vols.pickle','wb') as f:\n",
    "    pickle.dump(nod_FN_correct_noemph_vols,f)"
   ]
  },
  {
   "attachments": {},
   "cell_type": "markdown",
   "id": "c6905d11",
   "metadata": {},
   "source": [
    "#### Continue analysis - Patient Selection/Matching"
   ]
  },
  {
   "cell_type": "code",
   "execution_count": 125,
   "id": "711da4ed",
   "metadata": {},
   "outputs": [],
   "source": [
    "#For a specific degree of emphysema, get all nodule sizes, a dictionary with the frequency of the number of nodules\n",
    "#that appear in the patients of that dataframe, a list with the name of the patient that each nodule corresponds to\n",
    "#(found on sizes), and the number of nodules found on that patient\n",
    "#plotting parameter should be set to True when creating plots so that we don't take into account nodules >300mm3\n",
    "\n",
    "def get_nodule_names_and_sizes(dataframe,plotting=True): #Input is a dataframe of a specific degree of emphysema\n",
    "    \n",
    "    #Initialize empty lists to be filled with nodule sizes, patient names, and num of nodules of each patient\n",
    "    sizes=[]\n",
    "    patient_names=[]\n",
    "    patient_nodules=[]\n",
    "    \n",
    "    all_nodules_num=[] #Keep track of the number of nodules \n",
    "    \n",
    "    for name in dataframe.columns: #There are many columns with nodules, one column for each unique nodule\n",
    "        if 'volume_all' in name: #these are columns with nodules\n",
    "            count = dataframe[name].isna().sum() #count NaN values\n",
    "            print(\"Column {} has {} non-nan values\".format(name,len(dataframe)-count))\n",
    "            \n",
    "            selected_rows = dataframe[~dataframe[name].isna()] #select rows with non nan values\n",
    "            sizes.extend(selected_rows[name].values.tolist()) #add the values of these nodules to a list\n",
    "            patient_names.extend(selected_rows['participant_id'].values.tolist()) #add patient_ids to a list\n",
    "            patient_nodules.extend(selected_rows['measured_nodules'].values.tolist()) #add number of nodules to a list\n",
    "        \n",
    "            if plotting==True:\n",
    "                #if we don't rename it then wrong indices will be added in patient_names and nodules\n",
    "                sizes_new=[val for ind,val in enumerate(sizes) if ind in np.where(np.array(sizes)<=300)[0]]\n",
    "                patient_names=[patient_names[ind] for ind,val in enumerate(sizes) if ind in np.where(np.array(sizes)<=300)[0]]\n",
    "                patient_nodules=[patient_names.count(x) for x in patient_names]\n",
    "                sizes=sizes_new\n",
    "\n",
    "    all_nodules_num.extend(patient_nodules) #Extend a list with the number of nodules counted in each participant\n",
    "            \n",
    "    num_nodules=dataframe['measured_nodules'].values #Get all the values of the number of nodules for each patient, even 0\n",
    "    \n",
    "    if plotting==False:\n",
    "        num_nodules_no_zero=num_nodules[num_nodules!=0] #Get num of nodules if nodules detected\n",
    "    else:\n",
    "        num_nodules_no_zero=all_nodules_num #Replace with number of nodules created above - only keep those <300mm3\n",
    "\n",
    "    non_zero_count={} #create a dictionary with the number of nodules and how often that number is detected\n",
    "    for elem in num_nodules_no_zero:\n",
    "        if elem in non_zero_count:\n",
    "            non_zero_count[elem]=non_zero_count[elem]+1\n",
    "        else:\n",
    "            non_zero_count[elem]=1\n",
    "        \n",
    "    if plotting==True:\n",
    "        for key,val in non_zero_count.items(): #Added to make sure that the right number was counted\n",
    "            non_zero_count[key]=np.ceil(val/key)    \n",
    "    \n",
    "        \n",
    "    non_zero_count[0.0]=num_nodules.tolist().count(0) #add at the end the case when no nodules were detected\n",
    "\n",
    "    print(\"\\n\")\n",
    "    print(\"Dictionary with number of measured nodules and how many times that number occured\")\n",
    "    \n",
    "    non_zero_count_sorted = dict(sorted(non_zero_count.items())) #sorted dictionary\n",
    "    print(non_zero_count_sorted)\n",
    "    print('\\n')\n",
    "\n",
    "    print(\"All participants\",patient_names)\n",
    "    \n",
    "    return sizes, non_zero_count_sorted, patient_names, patient_nodules"
   ]
  },
  {
   "cell_type": "code",
   "execution_count": 126,
   "id": "3cb07aa8",
   "metadata": {},
   "outputs": [],
   "source": [
    "new_severity_names=['advanced','confluent','moderate','noemphysema'] #new convenient names - 'mild','trace' excluded"
   ]
  },
  {
   "cell_type": "code",
   "execution_count": 127,
   "id": "a02b3b61",
   "metadata": {},
   "outputs": [
    {
     "data": {
      "text/plain": [
       "{'AdvancedCentrEmphyNo': 5,\n",
       " 'ConfluentCentrEmphyN': 4,\n",
       " 'ModerateCentrEmphyNo': 3,\n",
       " 'NoCentrEmphyNodules': 0}"
      ]
     },
     "execution_count": 127,
     "metadata": {},
     "output_type": "execute_result"
    }
   ],
   "source": [
    "#Emphysema types ordered by severity\n",
    "severity=[\"AdvancedCentrEmphyNo\",\"ConfluentCentrEmphyN\",\"ModerateCentrEmphyNo\",\"NoCentrEmphyNodules\"]\n",
    "# severity=[\"AdvancedDestructiveE\",\"ConfluentCentrEmphyN\",\"ModerateEmphysema\",\"NoDistinctEmphysema\"]\n",
    "severity_nums=[5,4,3,0] #create integers from the most severe to the least one\n",
    "severity_dict={} #create a dict with severity name and corresponding integer\n",
    "for index,val in enumerate(severity):\n",
    "    severity_dict[val]=severity_nums[index]\n",
    "severity_dict"
   ]
  },
  {
   "cell_type": "code",
   "execution_count": 57,
   "id": "2c724b4b",
   "metadata": {
    "scrolled": true
   },
   "outputs": [],
   "source": [
    "#Barplots for different degrees of emphysema\n",
    "fig, axs = plt.subplots(ncols=len(severity_dict),figsize=(17,4)) #set to 23,6 if trace and mild are included\n",
    "fig2, axs2 = plt.subplots(ncols=len(severity_dict),figsize=(17,4)) \n",
    "# fig3, axs3 = plt.subplots(ncols=len(severity_dict),figsize=(17,4)) \n",
    "# fig_4, axs_4 = plt.subplots(ncols=len(severity_dict),figsize=(17,4))\n",
    "\n",
    "for ind,name in enumerate(severity_dict.keys()): #loop over names of emphysema degrees\n",
    "    print(name)\n",
    "    \n",
    "    #Execute above function to get nodule names and sizes for each emphysema degree\n",
    "    exec(\"sizes_\"+new_severity_names[ind]+',nodule_num_'+new_severity_names[ind]+',patient_names_'+new_severity_names[ind]+\n",
    "         ',patient_nodules_'+new_severity_names[ind]+'=get_nodule_names_and_sizes('+name+',True)') \n",
    "       \n",
    "    #Barplot of the distribution of the num of nodules for each degree of emphysema using key-value pairs from dictionaries   \n",
    "    freq=np.asarray(list(eval('nodule_num_'+new_severity_names[ind]+'.values()')))\n",
    "    vals=np.asarray(list(eval('nodule_num_'+new_severity_names[ind]+'.keys()')))\n",
    "    fig=sns.barplot(vals,freq,ax=axs[ind])\n",
    "    fig.set(xlabel=new_severity_names[ind]+'_num_of_nodules', ylabel='num_of_individuals')\n",
    "    \n",
    "    #Histogram of sizes when outliers were removed   \n",
    "    sizes_no_outliers = [x for x in eval('sizes_'+new_severity_names[ind]) if x <=300]  \n",
    "    s = pd.DataFrame({'val': sizes_no_outliers, 'color':['<=100$mm^3$' if x<=100 else '>100$mm^3$ & <=300$mm^3$' for x in sizes_no_outliers]})\n",
    "    fig2=sns.histplot(data=s,ax=axs2[ind],x='val',hue='color',hue_order=[\"<=100$mm^3$\", \">100$mm^3$ & <=300$mm^3$\"])\n",
    "#     for ax in axs2: #delete legend\n",
    "#         ax.legend([],[], frameon=False)\n",
    "    fig2.set(xlabel=new_severity_names[ind]+'_sizes ($mm^3$)', ylabel='num_of_nodules')\n",
    "    \n",
    "#     #The above was originally as:\n",
    "#     sizes_no_outliers = [x for x in eval('sizes_'+new_severity_names[ind]) if x <=300]  \n",
    "#     fig2=sns.histplot(sizes_no_outliers,ax=axs2[ind])\n",
    "#     fig2.set(xlabel=new_severity_names[ind]+'_sizes ($mm^3$)', ylabel='num_of_nodules')\n",
    "    \n",
    "#     #Histogram of all sizes, even outliers\n",
    "#     vals=np.asarray(eval('sizes_'+new_severity_names[ind]))\n",
    "#     fig3=sns.histplot(vals,ax=axs3[ind])\n",
    "#     fig3.set(xlabel=new_severity_names[ind]+'_sizes_all ($mm^3$)', ylabel='num_of_nodules')\n",
    "    \n",
    "    #A Distplot or distribution plot, depicts the variation in the data distribution. \n",
    "    #Seaborn Distplot represents the overall distribution of continuous data variables.\n",
    "    #Same graph as above with a distribution line fit\n",
    "#     vals=np.asarray(eval('sizes_'+new_severity_names[ind]))\n",
    "#     fig_4=sns.distplot(vals,ax=axs_4[ind])\n",
    "#     fig_4.set(xlabel=new_severity_names[ind]+'_sizes_all ($mm^3$3)', ylabel='num_of_nodules')\n",
    "\n",
    "\n",
    "#Save each of the above graphs seperately\n",
    "# bar_num_nods = fig.get_figure()\n",
    "# bar_num_nods.savefig(\"distribution_num_nods.png\")\n",
    "# hist_no_outliers = fig2.get_figure()\n",
    "# hist_no_outliers.savefig(\"size_distribution.png\")\n",
    "# hist_all = fig3.get_figure()\n",
    "# hist_all.savefig(\"size_distribution_all.png\")\n",
    "# dist_plot_all = fig_4.get_figure()\n",
    "# dist_plot_all.savefig(\"size_distribution_all_line_fit.png\")"
   ]
  },
  {
   "cell_type": "code",
   "execution_count": 58,
   "id": "c4f26b46",
   "metadata": {},
   "outputs": [],
   "source": [
    "for i in range(len(emphysema_data['Severity'])):\n",
    "    try:\n",
    "        if emphysema_data['Severity'].iloc[i]<emphysema_data['Severity'].iloc[i+1]:\n",
    "            print(i)\n",
    "    except:\n",
    "        print('Error in {}'.format(i))\n",
    "        pass\n",
    "print('Length of df is {}'.format(len(emphysema_data['Severity'])))    \n",
    "#Above means that we have patients in order, if error in len of dataframe (-1) only"
   ]
  },
  {
   "attachments": {},
   "cell_type": "markdown",
   "id": "5250a1bf",
   "metadata": {},
   "source": [
    "## Statistics - Not needed for analysis - Just for confirmation"
   ]
  },
  {
   "cell_type": "code",
   "execution_count": 130,
   "id": "3701aeb8",
   "metadata": {},
   "outputs": [],
   "source": [
    "# dist_names=[name for name,params in st._distr_params.distcont] #Get names of all distributions available in SciPy\n",
    "# print(dist_names)"
   ]
  },
  {
   "cell_type": "code",
   "execution_count": 131,
   "id": "ccfa30ad",
   "metadata": {},
   "outputs": [],
   "source": [
    "# #Function to find best distribution using SciPy. It fits each attribute to a reasonably large list of possible \n",
    "# #distributions, evaluates all fits and picks the best one. This can be done by performing a Kolmogorov-Smirnov test\n",
    "# #between our sample and each of the distributions of the fit and picking the one that minimises D, the test statistic\n",
    "# #(a.k.a. the difference between the sample and the fit). Inspired by:\n",
    "# #https://stackoverflow.com/questions/37487830/how-to-find-probability-distribution-and-parameters-for-real-data-python-3\n",
    "\n",
    "# def get_best_distribution(data): #Get a list of numbers for which distribution needs to be found\n",
    "    \n",
    "#     #Get all distribution names except of a few in which we get errors\n",
    "#     dist_names = [name for name,params in st._distr_params.distcont \n",
    "#                   if name!='kstwo' and name!='levy_stable' and name!='studentized_range']\n",
    "    \n",
    "#     #Initialize empty list and dictionary to be filled with:\n",
    "#     #tuples of (distribution_names, p_values) and parameter names and values respectively\n",
    "#     dist_results = []\n",
    "#     params = {}\n",
    "    \n",
    "#     for dist_name in dist_names: #Loop over distribution names\n",
    "#         dist = getattr(st, dist_name) #Needed for next step\n",
    "#         param = dist.fit(data) #Fits based on maximum likelihood. More information can be found in:\n",
    "#         #https://stackoverflow.com/questions/6620471/fitting-empirical-distribution-to-theoretical-ones-with-scipy-python \n",
    "        \n",
    "#         #Separate parts of parameters. A detailed list of all possible distributions and their parameters can be found in:\n",
    "#         #https://stackoverflow.com/questions/37559470/what-do-all-the-distributions-available-in-scipy-stats-look-like\n",
    "        \n",
    "# #         arg = param[:-2]\n",
    "# #         loc = param[-2]\n",
    "# #         scale = param[-1]\n",
    "        \n",
    "#         #Calculate fitted PDF and error\n",
    "# #         pdf = distribution.pdf(x, loc=loc, scale=scale, *arg)\n",
    "# #         sse = np.sum(np.power(y - pdf, 2.0))\n",
    "      \n",
    "#         params[dist_name] = param #Add the name of the distribution and its parameters to a dictionary\n",
    "        \n",
    "#         # Applying the Kolmogorov-Smirnov test - This test answers the question: \"What is the probability that\n",
    "#         #this collection of samples could have been drawn from that probability distribution?\". More information in:\n",
    "#         #https://stats.stackexchange.com/questions/132652/how-to-determine-which-distribution-fits-my-data-best\n",
    "#         #For a conversion of the D value to a p statistic tables can be found online, as explained in: \n",
    "#         #https://stats.stackexchange.com/questions/57885/how-to-interpret-p-value-of-kolmogorov-smirnov-test-python\n",
    "        \n",
    "#         D, p = st.kstest(data, dist_name, args=param)\n",
    "        \n",
    "#         dist_results.append((dist_name, p)) #Add a tuple of the name of distribution and its p value to a list\n",
    "\n",
    "#     # select the best fitted distribution - should also add as output of the function 'best_dist, best_p' \n",
    "#     # best_dist, best_p = (max(dist_results, key=lambda item: item[1])) #store the name of the best fit and its p value\n",
    "\n",
    "#     return params, dist_results"
   ]
  },
  {
   "cell_type": "code",
   "execution_count": 132,
   "id": "cbf9cca9",
   "metadata": {
    "scrolled": false
   },
   "outputs": [],
   "source": [
    "# num_params_fitted=[] #List of the number of parameters of each fitted distribution\n",
    "\n",
    "# for name in new_severity_names: #Loop over different degrees of emphysema\n",
    "#     print(name) \n",
    "    \n",
    "#     #Apply the above function to find distributions that fit the data best\n",
    "#     params,dist_results=get_best_distribution(eval('sizes_'+name)) #_,_, if best_dist, best_p are added\n",
    "    \n",
    "#     #Initialize empty list for each degree of emphysema to store: distribution name, value, \n",
    "#     #number of parameters of that distribution and parameters of that distribution (args, loc, scale)\n",
    "#     exec(\"names_\"+name+\"=[]\") \n",
    "#     exec(\"values_\"+name+\"=[]\")\n",
    "#     exec(\"params_num_\"+name+\"=[]\")\n",
    "#     exec(\"params_values_\"+name+\"=[]\")\n",
    "    \n",
    "#     for dist_name, value in dist_results: #Loop over the fitted distributions and their values\n",
    "#         if np.isnan(float(value))==False: #If value is not NaN append the above lists\n",
    "#             exec(\"names_\"+name+\".append('\"+dist_name+\"')\") \n",
    "#             exec(\"values_\"+name+\".append(\"+str(value)+\")\") \n",
    "#             exec(\"params_num_\"+name+\".append(\"+str(len(params[dist_name]))+\")\")\n",
    "#             exec(\"params_values_\"+name+\".append(\"+str(params[dist_name])+\")\")\n",
    "\n",
    "#             #Add tuple of distribution name and num of its parameters to list\n",
    "#             if (dist_name,len(params[dist_name])) not in num_params_fitted:\n",
    "#                     num_params_fitted.append((dist_name,len(params[dist_name]))) #Similar as above but more compact\n",
    "\n",
    "#     #Sort p values and distribution names\n",
    "#     exec(\"values_new_\"+name+\",\"+\"names_new_\"+name+\"=zip(*sorted(zip(\"+\"values_\"+name+\",\"+\"names_\"+name+\")))\")\n",
    "\n",
    "#     print(\"{} are the highest P values\".format(eval(\"values_new_\"+name+\"[-5:]\")))\n",
    "#     print(\"{} are the best fitted distribution names\".format(eval(\"names_new_\"+name+\"[-5:]\")))\n",
    "    \n",
    "# #     #Empty lists to be filled with the number of parameters of the best distributions and their values\n",
    "# #     num_params=[]\n",
    "# #     params_values=[]\n",
    "    \n",
    "# #     for index2, value2 in enumerate(eval(\"names_new_\"+name+\"[-5:]\")): #Loop over the top 5 fitted distributions\n",
    "# #         for index, value in enumerate(eval(\"names_\"+name)): #Loop over all distribution names\n",
    "# #             if value==value2: #When we find one of the best fitted distributions\n",
    "# #                 num_params.append(eval(\"params_num_\"+name+\"[\"+str(index)+\"]\")) #add the number of its parameters to a list\n",
    "# #                 params_values.append(eval(\"params_values_\"+name+\"[\"+str(index)+\"]\")) #add its parameter values to a list\n",
    "                \n",
    "# #     print(\"Number of parameters of top5 distributions are {}\".format(num_params))\n",
    "# #     print(\"Exact parameter values of top5 distributions are {}\".format(params_values))\n",
    "\n",
    "#     print('\\n')\n",
    "    \n",
    "# print(\"Distributions and the number of their parameters\")\n",
    "# print(num_params_fitted)"
   ]
  },
  {
   "attachments": {},
   "cell_type": "markdown",
   "id": "d01c97fe",
   "metadata": {},
   "source": [
    "### Create size groups "
   ]
  },
  {
   "cell_type": "code",
   "execution_count": 59,
   "id": "231d013a",
   "metadata": {},
   "outputs": [],
   "source": [
    "#For each degree of emphysema print nodule distribution, total number of nodules and confirm that we have the expected num\n",
    "for degree in new_severity_names:\n",
    "    print(degree)\n",
    "    print(\"Number of nodules and number of patients with that many nodules:{}\".format(eval('nodule_num_'+degree)))\n",
    "    \n",
    "    #For each number of nodules (0-10) multiply it by th number of occurences and add them all to get total num of nodules\n",
    "    total=np.sum([a*b for a,b in zip(list(eval('nodule_num_'+degree).keys()),list(eval('nodule_num_'+degree).values()))])\n",
    "    \n",
    "    print(\"Total num of nodules for {} is {}\".format(degree,total))\n",
    "    print('\\n')\n",
    "    \n",
    "#     assert len(eval('sizes_'+degree))==total #Verify that we get the expected numbers - not work since >300mm3 omitted"
   ]
  },
  {
   "cell_type": "code",
   "execution_count": 60,
   "id": "8eb08945",
   "metadata": {},
   "outputs": [],
   "source": [
    "#Execute the same function as above, but this time by setting plotting to False to also get nodules >300mm3 - used below\n",
    "for ind,name in enumerate(severity_dict.keys()): #loop over names of emphysema degrees\n",
    "    #Execute above function with plotting=False to get numbers needed below\n",
    "    exec(\"sizes_\"+new_severity_names[ind]+',nodule_num_'+new_severity_names[ind]+',patient_names_'+new_severity_names[ind]+\n",
    "         ',patient_nodules_'+new_severity_names[ind]+'=get_nodule_names_and_sizes('+name+',False)') "
   ]
  },
  {
   "cell_type": "code",
   "execution_count": 61,
   "id": "845c5c29",
   "metadata": {},
   "outputs": [],
   "source": [
    "#Get group sizes - '_100' corresponds to nodules between 30-100mm3 since nodules <30mm3 were not annotated by radiologists\n",
    "for degree in new_severity_names:\n",
    "    \n",
    "    print(degree)\n",
    "       \n",
    "    #Create groups based on size of nodules for each degree - eg. sizes_advanced, sizes_advanced_30, etc.\n",
    "    #Each group is: '_30'=nodules smaller than 30mm3, '_30_100' from 30-100mm3 etc.\n",
    "    exec(\"sizes_\"+degree+\"=np.asarray(eval('sizes_'+degree)).astype(int)\")\n",
    "    exec(\"sizes_\"+degree+\"_100\"+\"=sizes_\"+degree+\"[sizes_\"+degree+\"<=100]\")\n",
    "    exec(\"sizes_\"+degree+\"_100_300\"+\"=sizes_\"+degree+\"[(sizes_\"+degree+\">100) & (sizes_\"+degree+\"<=300)]\")\n",
    "    exec(\"sizes_\"+degree+\"_300\"+\"=sizes_\"+degree+\"[(sizes_\"+degree+\">300)]\")\n",
    "    \n",
    "    #Create list with indices of the patients of the above groups\n",
    "    exec(\"patient_ind_\"+degree+\"=eval('patient_names_'+degree)\") #Needed for patient_names below\n",
    "    exec(\"patient_ind_\"+degree+\"_100=[index for index,value in enumerate(\"+'sizes_'+degree+\") if value <=100]\")\n",
    "    exec(\"patient_ind_\"+degree+\"_100_300=[index for index,value in enumerate(\"+'sizes_'+degree+\") if value>100 and value<=300]\")\n",
    "    exec(\"patient_ind_\"+degree+\"_300=[index for index,value in enumerate(\"+'sizes_'+degree+\") if value>300]\")\n",
    "    \n",
    "    #Get the actual names of the above patients for each size group\n",
    "    exec(\"patient_\"+degree+\"_names=patient_names_\"+degree)\n",
    "    exec(\"patient_\"+degree+\"_100_names=[patient_ind_\"+degree+\"[i] for i in patient_ind_\"+degree+\"_100]\")\n",
    "    exec(\"patient_\"+degree+\"_100_300_names=[patient_ind_\"+degree+\"[i] for i in patient_ind_\"+degree+\"_100_300]\")\n",
    "    exec(\"patient_\"+degree+\"_300_names=[patient_ind_\"+degree+\"[i] for i in patient_ind_\"+degree+\"_300]\")\n",
    "\n",
    "    #Number of nodules contained in the particular patient\n",
    "    exec(\"patient_nodules_\"+degree+\"_100=[patient_nodules_\"+degree+\"[i] for i in patient_ind_\"+degree+\"_100]\")\n",
    "    exec(\"patient_nodules_\"+degree+\"_100_300=[patient_nodules_\"+degree+\"[i] for i in patient_ind_\"+degree+\"_100_300]\")\n",
    "    exec(\"patient_nodules_\"+degree+\"_300=[patient_nodules_\"+degree+\"[i] for i in patient_ind_\"+degree+\"_300]\")    \n",
    "    \n",
    "    #Confirm that the above worked\n",
    "    assert len(eval(\"sizes_\"+degree))==len(eval(\"sizes_\"+degree+\"_100\"))+len(eval(\"sizes_\"+degree+\"_100_300\"))+len(eval(\"sizes_\"+degree+\"_300\"))\n",
    "    assert len(eval(\"patient_nodules_\"+degree))==len(eval(\"patient_nodules_\"+degree+\"_100\"))+len(eval(\"patient_nodules_\"+degree+\"_100_300\"))+len(eval(\"patient_nodules_\"+degree+\"_300\"))\n",
    "    \n",
    "    #Print unique patients contained in each degree of emphysema - Only those with nodules in the lists below\n",
    "    #The rest have no nodules in GT annotations\n",
    "    print(len(np.unique(eval(\"patient_\"+degree+\"_names\"))))"
   ]
  },
  {
   "cell_type": "code",
   "execution_count": 136,
   "id": "5d201750",
   "metadata": {},
   "outputs": [],
   "source": [
    "# # Keep only the largest nodule of each participant in the non-emphysema group - NOT USED FOR NOW\n",
    "# # If used, change two lines when calling 'resample' function below\n",
    "\n",
    "# pats_noemph_all, sizes_noemph_all = zip(*sorted(zip(patient_noemphysema_names, sizes_noemphysema))) #Sort based on pat id\n",
    "\n",
    "# #Initialize empty lists to be filled with unique patient id and maximum nodule size of it\n",
    "# pats_unique=[] #Although a bit redundant since the same list as pats_noemph_all\n",
    "# sizes_max=[]\n",
    "\n",
    "# for pat in np.unique(pats_noemph_all): #Loop over unique pat ids\n",
    "    \n",
    "#     pat_sizes=[] #initialize list to store this patient's nodule sizes\n",
    "    \n",
    "#     for index in np.where(pats_noemph_all==pat)[0]:\n",
    "#         pat_sizes.append(sizes_noemph_all[index]) #Add nodule sizes of this patient to the above list\n",
    "    \n",
    "#     pats_unique.append(pat) #Add patient to list\n",
    "#     sizes_max.append(np.max(pat_sizes)) #Add maximum nodule size of this patient to list"
   ]
  },
  {
   "cell_type": "code",
   "execution_count": 137,
   "id": "d68f8cd1",
   "metadata": {},
   "outputs": [
    {
     "name": "stdout",
     "output_type": "stream",
     "text": [
      "advanced\n",
      "confluent\n",
      "moderate\n",
      "noemphysema\n"
     ]
    }
   ],
   "source": [
    "#Get lists of all participants within each emphysema and non-emphysema subgroups - even those without nodules\n",
    "for ind,name in enumerate(new_severity_names):\n",
    "    print(name)\n",
    "    exec('all_'+name+'=[]')\n",
    "    exec(\"all_\"+name+\".append(list(emphysema_data[emphysema_data['Emphysema']==list(severity_dict.keys())[\"+str(ind)+\"]]['participant_id'].values))\")\n",
    "    exec('all_'+name+'=all_'+name+'[0]')"
   ]
  },
  {
   "cell_type": "code",
   "execution_count": 62,
   "id": "e1a56cb0",
   "metadata": {},
   "outputs": [],
   "source": [
    "# np.unique(all_moderate) #Check cases with moderate emphysema"
   ]
  },
  {
   "cell_type": "code",
   "execution_count": 63,
   "id": "be4dfe25",
   "metadata": {},
   "outputs": [],
   "source": [
    "# np.unique(all_confluent) #Check cases with confluent emphysema - Contain also nodules with volume 300+ mm3 (excluded)"
   ]
  },
  {
   "cell_type": "code",
   "execution_count": 64,
   "id": "dcbadd7f",
   "metadata": {},
   "outputs": [],
   "source": [
    "# np.unique(all_advanced) #Check cases with advanced emphysema"
   ]
  },
  {
   "cell_type": "code",
   "execution_count": 65,
   "id": "540a2555",
   "metadata": {},
   "outputs": [],
   "source": [
    "only_300_adv=[pat for pat in patient_advanced_300_names if pat not in patient_advanced_100_300_names\n",
    "              and pat not in patient_advanced_100_names] #These are cases with only nodules >300mm3\n",
    "print(\"Total num of participants with advanced emphysema is {}\".format(len(all_advanced)-len(only_300_adv)))\n",
    "print(\"Total num of participants with advanced emphysema and with nodules is {}\".format(len(list(np.unique(eval(\"patient_advanced_names\"))))-len(only_300_adv)))\n",
    "print(\"Total num of participants with advanced emphysema and without nodules is {}\".format(len(list(set(all_advanced)-set(list(np.unique(eval(\"patient_advanced_names\"))))))))\n",
    "print(\"The participants without nodules with advanced emphysema are the following: {}\".format(list(set(all_advanced)-set(list(np.unique(eval(\"patient_advanced_names\")))))))\n",
    "print('\\n')\n",
    "\n",
    "only_300_conf=[pat for pat in patient_confluent_300_names if pat not in patient_confluent_100_300_names\n",
    "              and pat not in patient_confluent_100_names]\n",
    "print(\"Total num of participants with confluent emphysema is {}\".format(len(all_confluent)-len(only_300_conf)))\n",
    "print(\"Total num of participants with confluent emphysema and with nodules is {}\".format(len(list(np.unique(eval(\"patient_confluent_names\"))))-len(only_300_conf)))\n",
    "print(\"Total num of participants with confluent emphysema and without nodules is {}\".format(len(list(set(all_confluent)-set(list(np.unique(eval(\"patient_confluent_names\"))))))))\n",
    "print(\"The participants without nodules with confluent emphysema are the following: {}\".format(list(set(all_confluent)-set(list(np.unique(eval(\"patient_confluent_names\")))))))\n",
    "print('\\n')\n",
    "\n",
    "only_300_mod=[pat for pat in patient_moderate_300_names if pat not in patient_moderate_100_300_names\n",
    "              and pat not in patient_moderate_100_names]\n",
    "print(\"Total num of participants with moderate emphysema is {}\".format(len(all_moderate)-len(only_300_mod)))\n",
    "print(\"Total num of participants with moderate emphysema and with nodules is {}\".format(len(list(np.unique(eval(\"patient_moderate_names\"))))-len(only_300_mod)))\n",
    "print(\"Total num of participants with moderate emphysema and without nodules is {}\".format(len(list(set(all_moderate)-set(list(np.unique(eval(\"patient_moderate_names\"))))))))\n",
    "print(\"The participants without nodules with moderate emphysema are the following: {}\".format(list(set(all_moderate)-set(list(np.unique(eval(\"patient_moderate_names\")))))))\n",
    "print('\\n')\n",
    "\n",
    "only_300_noemphysema=[pat for pat in patient_noemphysema_300_names if pat not in patient_noemphysema_100_300_names\n",
    "              and pat not in patient_noemphysema_100_names]\n",
    "print(\"Total num of participants without emphysema is {}\".format(len(all_noemphysema)-len(only_300_noemphysema)))\n",
    "print(\"Total num of participants without emphysema and with nodules is {}\".format(len(list(np.unique(eval(\"patient_noemphysema_names\"))))-len(only_300_noemphysema)))\n",
    "print(\"Total num of participants without emphysema and without nodules is {}\".format(len(list(set(all_noemphysema)-set(list(np.unique(eval(\"patient_noemphysema_names\"))))))))\n",
    "#Commented below since long list >400 participants\n",
    "# print(\"The participants without nodules without emphysema are the following: {}\".format(list(set(all_noemphysema)-set(list(np.unique(eval(\"patient_noemphysema_names\")))))))\n",
    "\n",
    "print('\\n')\n",
    "print(\"If we want to also select cases from non-emphysema group without nodules, we should select {} of those\".format(len(list(set(all_advanced)-set(list(np.unique(eval(\"patient_advanced_names\"))))))+len(list(set(all_confluent)-set(list(np.unique(eval(\"patient_confluent_names\"))))))+len(list(set(all_moderate)-set(list(np.unique(eval(\"patient_moderate_names\"))))))))"
   ]
  },
  {
   "attachments": {},
   "cell_type": "markdown",
   "id": "2c5ace63",
   "metadata": {},
   "source": [
    "### Resample from one group so that new samples follow a similar distribution as another group"
   ]
  },
  {
   "cell_type": "code",
   "execution_count": 142,
   "id": "9415eba9",
   "metadata": {},
   "outputs": [],
   "source": [
    "#https://stats.stackexchange.com/questions/448549/sampling-from-dataset-according-to-distribution-obtained-from-another-dataset\n",
    "\n",
    "#Function that calculates mean squared error of two samples\n",
    "def distance(a,b):\n",
    "    return np.sum((a-b)**2)\n",
    "\n",
    "#Resample from a distribution B so that it follows the same distribution as A, and take N samples. B here is noemphysema group\n",
    "def resample(A, B, N, indices_added):\n",
    "    \n",
    "    #Empty lists with the newsamples to return and their indices from in the original distribution list\n",
    "    newsample =[] \n",
    "    indices=[]  \n",
    "    \n",
    "    val=0 #Index for to loop over and take one sample at a time\n",
    "    \n",
    "    while val<N: #While not all samples have been taken\n",
    "        \n",
    "        a = A[val]# Get first nodule size sample for which we want to find correspondance\n",
    "        \n",
    "        #Initialize the minimum distance to infinity and the minimum index to None, to be updated below\n",
    "        mindist = np.inf\n",
    "        mindistind = None\n",
    "        \n",
    "        for j in range(len(B)): #Loop over elements of distribution from which we want to pick up elements   \n",
    "            if a<=100 and B[j]<=100 or ((a>100 or a<=300) and (B[j]>100 or B[j]<=300)): #Ensures we are at the same volume subgroup\n",
    "                d = distance(a,B[j]) #Calculate distance of each element of that distribution from our sample\n",
    "\n",
    "                #If the distance is less than the minimum that we have up until now and smaller than 100\n",
    "                #(to ensure that samples are relatively close to each other), update the minimum distance and index\n",
    "                if d < mindist and d<100: #100 for continuous, 1 for categorical\n",
    "\n",
    "                    if j in indices or j in indices_added:#To ensure that we don't sample the same nodule more than once\n",
    "                        pass\n",
    "\n",
    "                    else:\n",
    "                        mindist = d\n",
    "                        mindistind = j\n",
    "\n",
    "        if mindistind is not None: #If a sample was found update the list of samples and list of indices\n",
    "            newsample.append(B[mindistind])\n",
    "            indices.append(mindistind)\n",
    "            print(\"Original vs Resampled sizes are {} - {}\".format(a,B[mindistind]))\n",
    "           \n",
    "        else:\n",
    "            print(\"No match for the volume {} with index {}\".format(A[val],val)) #else print element for which we don't have  match\n",
    "            print(\"\\n\")\n",
    "            \n",
    "            #Repeat above steps to find next closest nodule but with distance>100 - Not used in our analysis\n",
    "            \n",
    "#             mindist = np.inf\n",
    "#             mindistind = None\n",
    "#             for j in range(len(B)): #Loop over elements of distribution from which we want to pick up elements                \n",
    "#                 d = distance(a,B[j]) #Calculate distance of each element of that distribution from our sample\n",
    "\n",
    "#                 #If the distance is less than the minimum that we have up until now and smaller than 100\n",
    "#                 #(to ensure that samples are relatively close to each other), update the minimum distance and index\n",
    "#                 if d < mindist and d<2000: #100 for continuous, 1 for categorical\n",
    "#                 #d=1300 needed for vol=289 to match vol=253\n",
    "#                     if j in indices or j in indices_added:#To ensure that we don't sample the same nodule more than once\n",
    "#                         pass\n",
    "\n",
    "#                     else:\n",
    "#                         mindist = d\n",
    "#                         mindistind = j\n",
    "\n",
    "#             if mindistind is not None: #If a sample was found update the list of samples and list of indices\n",
    "#                 newsample.append(B[mindistind])\n",
    "#                 indices.append(mindistind)\n",
    "#                 print('Resampling with a distance less than 2000 for vol={}'.format(B[mindistind]))\n",
    "#                 print(\"\\n\")\n",
    "#             else:\n",
    "#                 print(\"No match for the volume {} with index {}\".format(A[val],val)) #else print element for which we don't have  match\n",
    "#                 print(\"\\n\")\n",
    "                \n",
    "                \n",
    "        val=val+1 #Update looping index\n",
    "        \n",
    "    return newsample,indices #Return newsamples and their indices in the original distribution list"
   ]
  },
  {
   "attachments": {},
   "cell_type": "markdown",
   "id": "a24b9161",
   "metadata": {},
   "source": [
    "### Confirm that resampled group follows similar distribution as the above chosen group"
   ]
  },
  {
   "cell_type": "code",
   "execution_count": 66,
   "id": "ca53a2d8",
   "metadata": {
    "scrolled": false
   },
   "outputs": [],
   "source": [
    "all_pats=[] #list to keep track all patients\n",
    "indices_added=[] #list to keep track of indices of nodules added\n",
    "maximum_matched=0\n",
    "not_maximum_matched=0\n",
    "\n",
    "for degree in new_severity_names: #Loop over degrees of emphysema\n",
    "    if degree not in ['noemphysema','mild','trace']:#For now only check noemphysema vs moderate-confluent-advanced groups\n",
    "        for size in ['_100','_100_300']: #Loop over possible size groups created above #'_30_100','100_300'\n",
    "            #Ignored nodules>300mm3 in the analysis. Many outliers there and only a few such nodules!\n",
    "            \n",
    "            #Resample from noemphysema size groups according to distribution of moderate-confluent-advanced size groups\n",
    "            newsamples,indices=resample(eval('sizes_'+degree+size),eval('sizes_noemphysema'+size),len(eval('sizes_'+degree+size)),indices_added)\n",
    "            #Use 'sizes_max' instead of 'eval('sizes_noemphysema'+size)' To keep the largest nodule in analysis\n",
    "\n",
    "            #Try to fit distributions in original and resampled data to compare them\n",
    "\n",
    "#             try:\n",
    "#                 if newsamples!=[] and eval('sizes_'+degree+size)!=[]: #If we got new samples and the initial size group is not empty\n",
    "#                     params,dist_results=get_best_distribution(newsamples) #Fit a distribution to the new samples and get its params\n",
    "\n",
    "#                     #lists to be filled with names and p values of the best fitted distributions\n",
    "#                     new_name=[]\n",
    "#                     new_value=[]\n",
    "\n",
    "#                     #For those name and values of distributions that we got a fit add them to the above lists\n",
    "#                     for name, value in dist_results:\n",
    "#                         if np.isnan(float(value))==False:\n",
    "#                             new_name.append(name)\n",
    "#                             new_value.append(float(value))\n",
    "\n",
    "#                     new_value_fin,new_name_fin=zip(*sorted(zip(new_value,new_name))) #sort them from highest to lowest p value\n",
    "\n",
    "#                     print(\"Best distribution for resampled noemphysema size of {} is {} with p values {}\".format(size,new_name_fin[-5:],new_value_fin[-5:]))\n",
    "\n",
    "#                     #Similar for the original size distribution that the new samples should follow similar distribution\n",
    "#                     params,dist_results=get_best_distribution(eval('sizes_'+degree+size))\n",
    "\n",
    "#                     new_name=[]\n",
    "#                     new_value=[]\n",
    "\n",
    "#                     for name, value in dist_results:\n",
    "#                         if np.isnan(float(value))==False:\n",
    "#                             new_name.append(name)\n",
    "#                             new_value.append(float(value))\n",
    "\n",
    "#                     new_value_fin,new_name_fin=zip(*sorted(zip(new_value,new_name)))\n",
    "\n",
    "#                     print(\"Initial distribution for {} of size of {} is {} with p values {}\".format(degree,size,new_name_fin[-5:],new_value_fin[-5:]))\n",
    "#                     print(\"{} are the values sampled from the original distribution\".format(list(eval('sizes_'+degree+size))))\n",
    "                \n",
    "#             except: #Happens - for example, in confluent vols>300mm3\n",
    "#                 print(traceback.format_exc())\n",
    "#                 print(\"No distribution fit because only one value in the list of samples: {}\".format(newsamples))\n",
    "\n",
    "            #Get names of resampled patients from noemphysema group\n",
    "            list_of_pats=[eval('patient_noemphysema'+size+'_names'+'['+str(i)+']') for i in indices]\n",
    "            #Change above to '[pats_unique[i] for i in indices]' to keep the largest nodule in analysis\n",
    "\n",
    "            all_pats=all_pats+list_of_pats #Add these patients to the list of all the patients\n",
    "\n",
    "            for k in indices: #Add newly found indices to list of indices for next loop resampling (next degree)\n",
    "                indices_added.append(k)\n",
    "\n",
    "            print(\"{} are the newsamples drawn\".format(newsamples))\n",
    "            print(\"Selected patients from noemphysema group to follow the same distribution as {} of size {} the following: {}\".format(degree,size,list_of_pats))\n",
    "            print(\"There are {} patients in that list\".format(len(list_of_pats)))\n",
    "            print(\"There were {} newsamples drawn\".format(len(newsamples)))\n",
    "            print('\\n')\n",
    "            \n",
    "            ##Check for errors of sampling not the largest nodule\n",
    "#             for index,check_pat in enumerate(list_of_pats):\n",
    "#                 find_pat=np.where(np.array(patient_names_noemphysema)==check_pat)\n",
    "                \n",
    "#                 if np.max(sizes_noemphysema[find_pat[0]])==newsamples[index]:\n",
    "#                     maximum_matched=maximum_matched+1\n",
    "#                 elif np.max(sizes_noemphysema[find_pat[0]])>newsamples[index]:\n",
    "#                     not_maximum_matched=not_maximum_matched+1\n",
    "#                 else:\n",
    "#                     print('ERROR! WHY here?')\n",
    "\n",
    "#             print(\"Num of maximum nodules matched:\",maximum_matched)\n",
    "#             print(\"Num of errors/non-maximum nodules matched:\",not_maximum_matched)\n",
    "#             print('\\n')\n",
    "            \n",
    "\n",
    "print(\"All patients are {}\".format(all_pats))\n",
    "print(\"This list contains {} patients\".format(len(all_pats)))\n",
    "# print(\"Number of occurences of each participant:\",Counter(all_pats))\n",
    "print('\\n')\n",
    "print(\"Unique patients are {}\".format(np.unique(all_pats)))\n",
    "print('\\n')\n",
    "print(\"Number of unique patients in that list is {}. These are all patients with at least 1 nodule\".format(len(np.unique(all_pats))))\n",
    "\n",
    "# #Export to excel to send to AI\n",
    "# pat_data=pd.DataFrame(np.unique(all_pats))\n",
    "# pat_data.to_excel('noemphysema_patients_AI_19_9.xlsx')"
   ]
  },
  {
   "cell_type": "code",
   "execution_count": 144,
   "id": "89a251a4",
   "metadata": {},
   "outputs": [
    {
     "data": {
      "image/png": "[encoded data removed]",
      "text/plain": [
       "<Figure size 432x288 with 1 Axes>"
      ]
     },
     "metadata": {},
     "output_type": "display_data"
    },
    {
     "data": {
      "image/png": "[encoded data removed]",
      "text/plain": [
       "<Figure size 432x288 with 1 Axes>"
      ]
     },
     "metadata": {},
     "output_type": "display_data"
    }
   ],
   "source": [
    "#Pie chart of number of participants with/without nodules in each of the emphysema/non-emphysema groups\n",
    "colors_new=['steelblue','forestgreen','chocolate','purple']\n",
    "\n",
    "y = np.array([len(np.unique(patient_confluent_100_names+patient_confluent_100_300_names)),\n",
    "              len(np.unique(patient_moderate_100_names+patient_moderate_100_300_names)),len(np.unique(all_pats)),\n",
    "              #all_pats those without emphysema and with nodules >30 and <300mm3\n",
    "              len(np.unique(patient_advanced_100_names+patient_advanced_100_300_names))])\n",
    "\n",
    "mylabels = ['confluent '+str(len(np.unique(patient_confluent_100_names+patient_confluent_100_300_names))),\n",
    "            'moderate '+str(len(np.unique(patient_moderate_100_names+patient_moderate_100_300_names))),\n",
    "            'non-emphysema '+str(len(np.unique(all_pats))), \n",
    "            \"advanced \"+str(len(np.unique(patient_advanced_100_names+patient_advanced_100_300_names)))]\n",
    "\n",
    "plt.pie(y, labels = mylabels,colors=colors_new, textprops={'fontsize': 15})\n",
    "plt.title('Individuals with nodules (30-300mm$^3$)', fontsize=20)\n",
    "plt.show() \n",
    "\n",
    "\n",
    "y = np.array([3,14,17])\n",
    "mylabels = ['confluent '+str(y[0]),'moderate '+str(y[1]),'non-emphysema '+str(y[2])] #All advanced patients have nodules\n",
    "\n",
    "plt.pie(y, labels = mylabels,colors=colors_new, textprops={'fontsize': 15})\n",
    "plt.title('Individuals without nodules', fontsize=20)\n",
    "plt.show() "
   ]
  },
  {
   "cell_type": "code",
   "execution_count": 67,
   "id": "80be2215",
   "metadata": {},
   "outputs": [],
   "source": [
    "# occurrences = collections.Counter(all_pats) #Count how many times a participant is chosen (=num of nodules matched from it)\n",
    "# print(occurrences)"
   ]
  },
  {
   "cell_type": "code",
   "execution_count": 147,
   "id": "75202fd8",
   "metadata": {},
   "outputs": [],
   "source": [
    "# emphysema_data[emphysema_data['volume_all_n1']==657] #Check for where volume match below not found - 657,28553,289,295\n",
    "# sizes_confluent_300 #non-empty with values 657, 28553 for which initial matches with d=100 did not exist"
   ]
  },
  {
   "cell_type": "code",
   "execution_count": 68,
   "id": "6421e174",
   "metadata": {},
   "outputs": [],
   "source": [
    "#If we need to check volumes on RedCap and compare with volumes of AI for non-emphysema cases (manually for now)\n",
    "non_emphysema_pats=emphysema_data[emphysema_data['participant_id'].isin(np.unique(all_pats))].iloc[:,[0,-10,-9,-8,-7,-6,-5,-4,-3,-2,-1]].sort_values('participant_id')\n",
    "non_emphysema_pats"
   ]
  },
  {
   "cell_type": "markdown",
   "id": "7712e88a",
   "metadata": {},
   "source": [
    "#### Manually check volumes of nodules to see if subsolid component can be matched"
   ]
  },
  {
   "cell_type": "code",
   "execution_count": 69,
   "id": "77bd2b41",
   "metadata": {},
   "outputs": [],
   "source": [
    "check_noemph=emphysema_data[emphysema_data['participant_id'].isin(np.unique(all_pats))]\n",
    "cols_check=[col for col in emphysema_data.columns if 'volume_al' in col or 'participant_id' in col]\n",
    "df_check=check_noemph[cols_check]\n",
    "\n",
    "#Below are teh volumes of the 3 findings in the emphysema group with a subsolid component that could not be matched in the non-emphysema group\n",
    "selected_rows = df_check[(df_check >= 65) & (df_check <= 85)].dropna(how='all') #388787 n2 can be matched to this (but not correct)\n",
    "# selected_rows = df_check[(df_check >= 115) & (df_check <= 135)].dropna(how='all') #662368 n1 can be matched to this (but not correct)\n",
    "# selected_rows = df_check[(df_check >= 319) & (df_check <= 339)].dropna(how='all') #no match possible!\n",
    "\n",
    "selected_rows['participant_id']=df_check['participant_id']\n",
    "selected_rows"
   ]
  },
  {
   "cell_type": "code",
   "execution_count": 150,
   "id": "6e002e26",
   "metadata": {},
   "outputs": [],
   "source": [
    "##For debug\n",
    "# cols_check=[col for col in emphysema_data.columns if 'volume_sub' in col or 'participant_id' in col]\n",
    "# df_check=check_noemph[cols_check]\n",
    "# df_check[df_check['participant_id']==388787] \n",
    "# df_check[df_check['participant_id']==662368] "
   ]
  },
  {
   "cell_type": "code",
   "execution_count": 151,
   "id": "ab2d094f",
   "metadata": {},
   "outputs": [
    {
     "name": "stdout",
     "output_type": "stream",
     "text": [
      "Total num of nodules in non-emphysema list is 143\n"
     ]
    }
   ],
   "source": [
    "#Volumes of nodules of non-emphysema list - Similar as above without participant_id to be used below\n",
    "only_vols=emphysema_data[emphysema_data['participant_id'].isin(np.unique(all_pats))].iloc[:,[-10,-9,-8,-7,-6,-5,-4,-3,-2,-1]]\n",
    "\n",
    "#Get number of nodules of participants in the non-emphysema list\n",
    "new_vols=[]\n",
    "for col in only_vols.columns:\n",
    "    new_vols.append(only_vols[col]) \n",
    "\n",
    "new_vols=[i for x in new_vols for i in x]\n",
    "new_vols=[x for x in new_vols if np.isnan(x)==False]\n",
    "\n",
    "print(\"Total num of nodules in non-emphysema list is {}\".format(len(new_vols)))\n",
    "# np.sum(only_vols.count()) #another way to get their number"
   ]
  },
  {
   "cell_type": "code",
   "execution_count": 152,
   "id": "0ba7daa1",
   "metadata": {},
   "outputs": [
    {
     "name": "stdout",
     "output_type": "stream",
     "text": [
      "Total num of nodules in non-emphysema list of size 30-100mm3 is 107\n",
      "Total num of nodules in non-emphysema list of size 100-300mm3 is 24\n",
      "Total num of nodules in non-emphysema list of size >300mm3 is 12\n"
     ]
    }
   ],
   "source": [
    "new_vols_100=[x for x in new_vols if x<=100] #If we want only nodules <=100mm3\n",
    "new_vols_100_300=[x for x in new_vols if x<=300 and x>100] #If we want only nodules 100<x<=300mm3\n",
    "new_vols_300=[x for x in new_vols if x>300] #If we want only nodules >300mm3\n",
    "print(\"Total num of nodules in non-emphysema list of size 30-100mm3 is {}\".format(len(new_vols_100)))\n",
    "print(\"Total num of nodules in non-emphysema list of size 100-300mm3 is {}\".format(len(new_vols_100_300)))\n",
    "print(\"Total num of nodules in non-emphysema list of size >300mm3 is {}\".format(len(new_vols_300)))\n",
    "#We expect to have nodules >300mm3 here, even though not explicitly sampled, since we sample on a scan basis."
   ]
  },
  {
   "cell_type": "code",
   "execution_count": 153,
   "id": "aa9f8620",
   "metadata": {},
   "outputs": [
    {
     "name": "stdout",
     "output_type": "stream",
     "text": [
      "Total num of nodules in advanced list is 24\n",
      "Total num of nodules in advanced list of size 30-100mm3 is 15\n",
      "Total num of nodules in advanced list of size 100-300mm3 is 9\n",
      "\n",
      "\n",
      "Total num of nodules in confluent list is 8\n",
      "Total num of nodules in confluent list of size 30-100mm3 is 6\n",
      "Total num of nodules in confluent list of size 100-300mm3 is 0\n",
      "\n",
      "\n",
      "Total num of nodules in moderate list is 46\n",
      "Total num of nodules in moderate list of size 30-100mm3 is 35\n",
      "Total num of nodules in moderate list of size 100-300mm3 is 10\n"
     ]
    }
   ],
   "source": [
    "adv_vols_100=[x for x in sizes_advanced if x<=100] #If we want only nodules <=100mm3\n",
    "adv_vols_100_300=[x for x in sizes_advanced if x<=300 and x>100] #If we want only nodules 100<x<=300mm3\n",
    "print(\"Total num of nodules in advanced list is {}\".format(len(sizes_advanced)))\n",
    "print(\"Total num of nodules in advanced list of size 30-100mm3 is {}\".format(len(adv_vols_100)))\n",
    "print(\"Total num of nodules in advanced list of size 100-300mm3 is {}\".format(len(adv_vols_100_300)))\n",
    "print('\\n')\n",
    "\n",
    "conf_vols_100=[x for x in sizes_confluent if x<=100] #If we want only nodules <=100mm3\n",
    "conf_vols_100_300=[x for x in sizes_confluent if x<=300 and x>100] #If we want only nodules 100<x<=300mm3\n",
    "print(\"Total num of nodules in confluent list is {}\".format(len(sizes_confluent)))\n",
    "print(\"Total num of nodules in confluent list of size 30-100mm3 is {}\".format(len(conf_vols_100)))\n",
    "print(\"Total num of nodules in confluent list of size 100-300mm3 is {}\".format(len(conf_vols_100_300)))\n",
    "print('\\n')\n",
    "\n",
    "mod_vols_100=[x for x in sizes_moderate if x<=100] #If we want only nodules <=100mm3\n",
    "mod_vols_100_300=[x for x in sizes_moderate if x<=300 and x>100] #If we want only nodules 100<x<=300mm3\n",
    "print(\"Total num of nodules in moderate list is {}\".format(len(sizes_moderate)))\n",
    "print(\"Total num of nodules in moderate list of size 30-100mm3 is {}\".format(len(mod_vols_100)))\n",
    "print(\"Total num of nodules in moderate list of size 100-300mm3 is {}\".format(len(mod_vols_100_300)))"
   ]
  },
  {
   "cell_type": "code",
   "execution_count": 154,
   "id": "1ea79907",
   "metadata": {},
   "outputs": [
    {
     "data": {
      "image/png": "[encoded data removed]",
      "text/plain": [
       "<Figure size 432x288 with 1 Axes>"
      ]
     },
     "metadata": {},
     "output_type": "display_data"
    },
    {
     "data": {
      "image/png": "[encoded data removed]",
      "text/plain": [
       "<Figure size 432x288 with 1 Axes>"
      ]
     },
     "metadata": {},
     "output_type": "display_data"
    }
   ],
   "source": [
    "#Compare total number of nodules for each volume subgroup (emphysema/non-emphysema)\n",
    "\n",
    "colors = ['steelblue','coral','forestgreen','firebrick']\n",
    "\n",
    "#30-100mm3\n",
    "y = np.array([len(new_vols_100),len(adv_vols_100),len(mod_vols_100),len(conf_vols_100)])\n",
    "mylabels = [ \"non-emphysema \"+str(len(new_vols_100)), \"advanced \"+str(len(adv_vols_100)),\n",
    "            \"moderate \"+str(len(mod_vols_100)),\"confluent \"+str(len(conf_vols_100))]\n",
    "\n",
    "plt.pie(y, labels = mylabels,colors=colors, textprops={'fontsize': 15})\n",
    "plt.title('Number of nodules per emphysema \\n severity of volume 30-100 mm$^3$', fontsize=20)\n",
    "plt.show() \n",
    "\n",
    "#100-300mm3\n",
    "y = np.array([len(new_vols_100_300),len(adv_vols_100_300),len(mod_vols_100_300)]) #no confluent nodules in this subgroup\n",
    "mylabels = [ \"non-emphysema \"+str(len(new_vols_100_300)), \"advanced \"+str(len(adv_vols_100_300)),\n",
    "            \"moderate \"+str(len(mod_vols_100_300))] \n",
    "\n",
    "plt.pie(y, labels = mylabels,colors=colors, textprops={'fontsize': 15})\n",
    "plt.title('Number of nodules per emphysema \\n severity of volume 100-300 mm$^3$', fontsize=20)\n",
    "plt.show() "
   ]
  },
  {
   "cell_type": "code",
   "execution_count": 155,
   "id": "129e115c",
   "metadata": {},
   "outputs": [
    {
     "name": "stdout",
     "output_type": "stream",
     "text": [
      "Total number of nods in adv+mod+conf emphysema group is 75 (without considering nodules >300mm3 - no matching exists)\n"
     ]
    }
   ],
   "source": [
    "severe_emph_sizes=[] #Combine all sizes of all nodules in emphysema group to one list\n",
    "severe_emph_sizes.extend(sizes_advanced)\n",
    "severe_emph_sizes.extend(sizes_confluent)\n",
    "severe_emph_sizes.extend(sizes_moderate)\n",
    "\n",
    "for emph_type in new_severity_names[:-1]: #Loop over emphysema types, ignoring non-emphysema\n",
    "    for big_size in eval(\"sizes_\"+emph_type+\"_300\"):\n",
    "        severe_emph_sizes.remove(big_size)\n",
    "    \n",
    "print(\"Total number of nods in adv+mod+conf emphysema group is {} (without considering nodules >300mm3 - no matching exists)\"\n",
    "      .format(len(severe_emph_sizes)))"
   ]
  },
  {
   "cell_type": "code",
   "execution_count": 156,
   "id": "261224b4",
   "metadata": {},
   "outputs": [
    {
     "name": "stdout",
     "output_type": "stream",
     "text": [
      "Total number of nods in non-emphysema group (30-300mm3) is 131\n"
     ]
    }
   ],
   "source": [
    "new_vols_small=[x for x in new_vols if x<=300] #If we want only nodules <300mm3 for the non-emphysema cases\n",
    "print(\"Total number of nods in non-emphysema group (30-300mm3) is\",len(new_vols_small))"
   ]
  },
  {
   "cell_type": "code",
   "execution_count": 157,
   "id": "d7d42243",
   "metadata": {},
   "outputs": [],
   "source": [
    "# sns.histplot(new_vols) #Plot all the resampled volumes from non-emphysema cases - Bad graph due to outliers"
   ]
  },
  {
   "cell_type": "code",
   "execution_count": 158,
   "id": "be3a144d",
   "metadata": {},
   "outputs": [
    {
     "data": {
      "text/plain": [
       "Text(0.5, 0, 'Nodule Size ($mm^3$)')"
      ]
     },
     "execution_count": 158,
     "metadata": {},
     "output_type": "execute_result"
    },
    {
     "data": {
      "image/png": "[encoded data removed]",
      "text/plain": [
       "<Figure size 432x288 with 1 Axes>"
      ]
     },
     "metadata": {
      "needs_background": "light"
     },
     "output_type": "display_data"
    }
   ],
   "source": [
    "plt.hist([new_vols_small,severe_emph_sizes],bins=20)\n",
    "plt.legend(['non-emphysema','emphysema']) #(>30 $mm^3$ and <300 $mm^3$)\n",
    "plt.ylabel('Number of nodules')\n",
    "plt.xlabel('Nodule Size ($mm^3$)')\n",
    "# plt.savefig(\"nodule_distribution.png\")\n",
    "\n",
    "# If larger distance, edge on right because of that greater distance for resampling d=1300 (~36) instead of 100 (10)"
   ]
  },
  {
   "cell_type": "code",
   "execution_count": 159,
   "id": "b3bbd683",
   "metadata": {},
   "outputs": [
    {
     "name": "stdout",
     "output_type": "stream",
     "text": [
      "Emphysema group median size: 58.0 IQR: 56.5\n",
      "Non-emphysema group median size: 59.0 IQR: 43.5\n",
      "P value is 0.9372387638938695\n"
     ]
    }
   ],
   "source": [
    "print(\"Emphysema group median size:\",np.median(severe_emph_sizes),\"IQR:\",st.iqr(severe_emph_sizes))\n",
    "print(\"Non-emphysema group median size:\",np.median(new_vols_small),\"IQR:\",st.iqr(new_vols_small))\n",
    "\n",
    "res = st.median_test(severe_emph_sizes, new_vols_small)\n",
    "print(\"P value is {}\".format(res[1])) #this is pvalue"
   ]
  },
  {
   "cell_type": "code",
   "execution_count": 160,
   "id": "6cdbbf96",
   "metadata": {},
   "outputs": [],
   "source": [
    "# #Get distribution for new samples with their parameters\n",
    "# def distribution_fit(samples,size='_100'):\n",
    "#     params,dist_results=get_best_distribution(samples) #Fit a distribution to the new samples and get its params\n",
    "#     new_name=[]\n",
    "#     new_value=[]\n",
    "\n",
    "#     for name, value in dist_results:\n",
    "#         if np.isnan(float(value))==False:\n",
    "#             new_name.append(name)\n",
    "#             new_value.append(float(value))\n",
    "\n",
    "#     new_value_fin,new_name_fin=zip(*sorted(zip(new_value,new_name)))\n",
    "\n",
    "#     print(\"Distributions for size {} are {} with p values {}\".format(size,new_name_fin[-5:],new_value_fin[-5:]))"
   ]
  },
  {
   "cell_type": "code",
   "execution_count": 161,
   "id": "fd8c5faf",
   "metadata": {},
   "outputs": [],
   "source": [
    "# severe_emph_sizes_100=[x for x in severe_emph_sizes if x<=100]\n",
    "# severe_emph_sizes_100_300=[x for x in severe_emph_sizes if x>100 and x<=300]\n",
    "\n",
    "# distribution_fit(severe_emph_sizes_100)\n",
    "# distribution_fit(severe_emph_sizes_100_300,size='100_300')"
   ]
  },
  {
   "cell_type": "code",
   "execution_count": 162,
   "id": "e9c0699c",
   "metadata": {},
   "outputs": [],
   "source": [
    "# distribution_fit(new_vols_100)\n",
    "# distribution_fit(new_vols_100_300,size='100_300')"
   ]
  },
  {
   "cell_type": "code",
   "execution_count": 163,
   "id": "96270bc7",
   "metadata": {},
   "outputs": [],
   "source": [
    "#100-300mm3 volumes only ~ 20 elements each - difficult to have similar distribution\n",
    "#0-100mm3 more similar (55 and 104 elements)"
   ]
  },
  {
   "cell_type": "code",
   "execution_count": 164,
   "id": "b9faa1ca",
   "metadata": {},
   "outputs": [
    {
     "name": "stdout",
     "output_type": "stream",
     "text": [
      "Time to execute the script is 10.464321613311768 sec\n"
     ]
    }
   ],
   "source": [
    "end=time.time()\n",
    "print(\"Time to execute the script is {} sec\".format(end-start)) #~7mins with statistics, ~30secs without"
   ]
  }
 ],
 "metadata": {
  "kernelspec": {
   "display_name": "Python 3 (ipykernel)",
   "language": "python",
   "name": "python3"
  },
  "language_info": {
   "codemirror_mode": {
    "name": "ipython",
    "version": 3
   },
   "file_extension": ".py",
   "mimetype": "text/x-python",
   "name": "python",
   "nbconvert_exporter": "python",
   "pygments_lexer": "ipython3",
   "version": "3.9.12"
  }
 },
 "nbformat": 4,
 "nbformat_minor": 5
}
